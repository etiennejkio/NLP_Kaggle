{
 "cells": [
  {
   "cell_type": "code",
   "execution_count": 59,
   "metadata": {},
   "outputs": [],
   "source": [
    "import json\n",
    "import pandas as pd\n",
    "from sklearn.feature_extraction.text import TfidfVectorizer\n",
    "from sklearn.metrics.pairwise import cosine_similarity"
   ]
  },
  {
   "cell_type": "code",
   "execution_count": 60,
   "metadata": {},
   "outputs": [
    {
     "data": {
      "text/html": [
       "<div>\n",
       "<style scoped>\n",
       "    .dataframe tbody tr th:only-of-type {\n",
       "        vertical-align: middle;\n",
       "    }\n",
       "\n",
       "    .dataframe tbody tr th {\n",
       "        vertical-align: top;\n",
       "    }\n",
       "\n",
       "    .dataframe thead th {\n",
       "        text-align: right;\n",
       "    }\n",
       "</style>\n",
       "<table border=\"1\" class=\"dataframe\">\n",
       "  <thead>\n",
       "    <tr style=\"text-align: right;\">\n",
       "      <th></th>\n",
       "      <th>Label</th>\n",
       "      <th>Text</th>\n",
       "    </tr>\n",
       "  </thead>\n",
       "  <tbody>\n",
       "    <tr>\n",
       "      <th>0</th>\n",
       "      <td>Politics</td>\n",
       "      <td>The mayor announced a new initiative to improv...</td>\n",
       "    </tr>\n",
       "    <tr>\n",
       "      <th>1</th>\n",
       "      <td>Health</td>\n",
       "      <td>Regular exercise and a balanced diet are key t...</td>\n",
       "    </tr>\n",
       "    <tr>\n",
       "      <th>2</th>\n",
       "      <td>Finance</td>\n",
       "      <td>The stock market saw a significant drop follow...</td>\n",
       "    </tr>\n",
       "    <tr>\n",
       "      <th>3</th>\n",
       "      <td>Travel</td>\n",
       "      <td>Visiting the Grand Canyon is a breathtaking ex...</td>\n",
       "    </tr>\n",
       "    <tr>\n",
       "      <th>4</th>\n",
       "      <td>Food</td>\n",
       "      <td>The new restaurant in town offers a fusion of ...</td>\n",
       "    </tr>\n",
       "    <tr>\n",
       "      <th>5</th>\n",
       "      <td>Education</td>\n",
       "      <td>The school district is implementing a new curr...</td>\n",
       "    </tr>\n",
       "    <tr>\n",
       "      <th>6</th>\n",
       "      <td>Environment</td>\n",
       "      <td>Climate change is causing a significant rise i...</td>\n",
       "    </tr>\n",
       "    <tr>\n",
       "      <th>7</th>\n",
       "      <td>Fashion</td>\n",
       "      <td>The new fashion trend is all about sustainabil...</td>\n",
       "    </tr>\n",
       "    <tr>\n",
       "      <th>8</th>\n",
       "      <td>Science</td>\n",
       "      <td>NASA's Mars Rover has made significant discove...</td>\n",
       "    </tr>\n",
       "    <tr>\n",
       "      <th>9</th>\n",
       "      <td>Sports</td>\n",
       "      <td>The NBA Finals are set to begin next week with...</td>\n",
       "    </tr>\n",
       "    <tr>\n",
       "      <th>10</th>\n",
       "      <td>Technology</td>\n",
       "      <td>Artificial intelligence is changing the way we...</td>\n",
       "    </tr>\n",
       "    <tr>\n",
       "      <th>11</th>\n",
       "      <td>Entertainment</td>\n",
       "      <td>The new Marvel movie is breaking box office re...</td>\n",
       "    </tr>\n",
       "  </tbody>\n",
       "</table>\n",
       "</div>"
      ],
      "text/plain": [
       "            Label                                               Text\n",
       "0        Politics  The mayor announced a new initiative to improv...\n",
       "1          Health  Regular exercise and a balanced diet are key t...\n",
       "2         Finance  The stock market saw a significant drop follow...\n",
       "3          Travel  Visiting the Grand Canyon is a breathtaking ex...\n",
       "4            Food  The new restaurant in town offers a fusion of ...\n",
       "5       Education  The school district is implementing a new curr...\n",
       "6     Environment  Climate change is causing a significant rise i...\n",
       "7         Fashion  The new fashion trend is all about sustainabil...\n",
       "8         Science  NASA's Mars Rover has made significant discove...\n",
       "9          Sports  The NBA Finals are set to begin next week with...\n",
       "10     Technology  Artificial intelligence is changing the way we...\n",
       "11  Entertainment  The new Marvel movie is breaking box office re..."
      ]
     },
     "execution_count": 60,
     "metadata": {},
     "output_type": "execute_result"
    }
   ],
   "source": [
    "DATA_PATH = \"./data/train.json\"\n",
    "\n",
    "with open(DATA_PATH, \"r\") as fichier:\n",
    "    data = json.load(fichier)\n",
    "\n",
    "def to_document(data):\n",
    "    res = {}\n",
    "    for key in data:\n",
    "        s = \"\"\n",
    "        for sentence in data[key]:\n",
    "            s += sentence + \" \"\n",
    "        res[key] = s\n",
    "    return res\n",
    "\n",
    "dico = to_document(data)\n",
    "df = pd.DataFrame(dico.items(), columns=['Label', 'Text'])\n",
    "df"
   ]
  },
  {
   "cell_type": "code",
   "execution_count": 61,
   "metadata": {},
   "outputs": [],
   "source": [
    "vectorizer = TfidfVectorizer()\n",
    "X = vectorizer.fit_transform(df['Text'])"
   ]
  },
  {
   "cell_type": "code",
   "execution_count": 62,
   "metadata": {},
   "outputs": [],
   "source": [
    "file_path = \"./data/test_shuffle.txt\"\n",
    "\n",
    "with open(file_path, \"r\") as file:\n",
    "    text = file.read()\n",
    "\n",
    "result = pd.DataFrame(columns=[\"ID\", \"Sentence\"])\n",
    "\n",
    "for i, sentence in enumerate(text.split(\"\\n\")):\n",
    "    result = pd.concat([result, pd.DataFrame([[i, sentence]], columns=[\"ID\", \"Sentence\"])], ignore_index=True)\n",
    "\n",
    "result[\"Label\"] = result[\"Sentence\"].map(lambda x: df.iloc[cosine_similarity(X, vectorizer.transform([x])).argmax(), 0])"
   ]
  },
  {
   "cell_type": "code",
   "execution_count": 63,
   "metadata": {},
   "outputs": [],
   "source": [
    "result = result.iloc[:-1]\n",
    "result.loc[:, [\"ID\", \"Label\"]].to_csv(\"./result.csv\", index=False)"
   ]
  }
 ],
 "metadata": {
  "kernelspec": {
   "display_name": "base",
   "language": "python",
   "name": "python3"
  },
  "language_info": {
   "codemirror_mode": {
    "name": "ipython",
    "version": 3
   },
   "file_extension": ".py",
   "mimetype": "text/x-python",
   "name": "python",
   "nbconvert_exporter": "python",
   "pygments_lexer": "ipython3",
   "version": "3.11.4"
  }
 },
 "nbformat": 4,
 "nbformat_minor": 2
}
