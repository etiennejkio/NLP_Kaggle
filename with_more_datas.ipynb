{
 "cells": [
  {
   "cell_type": "code",
   "execution_count": 1,
   "id": "b7172852",
   "metadata": {},
   "outputs": [
    {
     "name": "stderr",
     "output_type": "stream",
     "text": [
      "2024-04-07 15:54:55.863393: I tensorflow/core/platform/cpu_feature_guard.cc:182] This TensorFlow binary is optimized to use available CPU instructions in performance-critical operations.\n",
      "To enable the following instructions: AVX2 FMA, in other operations, rebuild TensorFlow with the appropriate compiler flags.\n"
     ]
    }
   ],
   "source": [
    "import json\n",
    "import pandas as pd\n",
    "from transformers import AutoModelForSequenceClassification, AutoTokenizer, TrainingArguments, Trainer\n",
    "import torch"
   ]
  },
  {
   "cell_type": "code",
   "execution_count": 6,
   "id": "a0a3c729",
   "metadata": {},
   "outputs": [
    {
     "ename": "JSONDecodeError",
     "evalue": "Expecting value: line 1 column 1 (char 0)",
     "output_type": "error",
     "traceback": [
      "\u001b[0;31m---------------------------------------------------------------------------\u001b[0m",
      "\u001b[0;31mJSONDecodeError\u001b[0m                           Traceback (most recent call last)",
      "Cell \u001b[0;32mIn[6], line 4\u001b[0m\n\u001b[1;32m      1\u001b[0m DATA_PATH \u001b[38;5;241m=\u001b[39m \u001b[38;5;124m\"\u001b[39m\u001b[38;5;124m./data/additional_datas.json\u001b[39m\u001b[38;5;124m\"\u001b[39m\n\u001b[1;32m      3\u001b[0m \u001b[38;5;28;01mwith\u001b[39;00m \u001b[38;5;28mopen\u001b[39m(DATA_PATH, \u001b[38;5;124m\"\u001b[39m\u001b[38;5;124mr\u001b[39m\u001b[38;5;124m\"\u001b[39m) \u001b[38;5;28;01mas\u001b[39;00m fichier:\n\u001b[0;32m----> 4\u001b[0m     data \u001b[38;5;241m=\u001b[39m json\u001b[38;5;241m.\u001b[39mload(fichier)\n\u001b[1;32m      7\u001b[0m df \u001b[38;5;241m=\u001b[39m pd\u001b[38;5;241m.\u001b[39mDataFrame\u001b[38;5;241m.\u001b[39mfrom_dict(data, orient\u001b[38;5;241m=\u001b[39m\u001b[38;5;124m'\u001b[39m\u001b[38;5;124mindex\u001b[39m\u001b[38;5;124m'\u001b[39m)\n\u001b[1;32m      8\u001b[0m df \u001b[38;5;241m=\u001b[39m df\u001b[38;5;241m.\u001b[39mstack()\u001b[38;5;241m.\u001b[39mreset_index(level\u001b[38;5;241m=\u001b[39m\u001b[38;5;241m1\u001b[39m, drop\u001b[38;5;241m=\u001b[39m\u001b[38;5;28;01mTrue\u001b[39;00m)\u001b[38;5;241m.\u001b[39mreset_index()\n",
      "File \u001b[0;32m~/anaconda3/lib/python3.11/json/__init__.py:293\u001b[0m, in \u001b[0;36mload\u001b[0;34m(fp, cls, object_hook, parse_float, parse_int, parse_constant, object_pairs_hook, **kw)\u001b[0m\n\u001b[1;32m    274\u001b[0m \u001b[38;5;28;01mdef\u001b[39;00m \u001b[38;5;21mload\u001b[39m(fp, \u001b[38;5;241m*\u001b[39m, \u001b[38;5;28mcls\u001b[39m\u001b[38;5;241m=\u001b[39m\u001b[38;5;28;01mNone\u001b[39;00m, object_hook\u001b[38;5;241m=\u001b[39m\u001b[38;5;28;01mNone\u001b[39;00m, parse_float\u001b[38;5;241m=\u001b[39m\u001b[38;5;28;01mNone\u001b[39;00m,\n\u001b[1;32m    275\u001b[0m         parse_int\u001b[38;5;241m=\u001b[39m\u001b[38;5;28;01mNone\u001b[39;00m, parse_constant\u001b[38;5;241m=\u001b[39m\u001b[38;5;28;01mNone\u001b[39;00m, object_pairs_hook\u001b[38;5;241m=\u001b[39m\u001b[38;5;28;01mNone\u001b[39;00m, \u001b[38;5;241m*\u001b[39m\u001b[38;5;241m*\u001b[39mkw):\n\u001b[1;32m    276\u001b[0m \u001b[38;5;250m    \u001b[39m\u001b[38;5;124;03m\"\"\"Deserialize ``fp`` (a ``.read()``-supporting file-like object containing\u001b[39;00m\n\u001b[1;32m    277\u001b[0m \u001b[38;5;124;03m    a JSON document) to a Python object.\u001b[39;00m\n\u001b[1;32m    278\u001b[0m \n\u001b[0;32m   (...)\u001b[0m\n\u001b[1;32m    291\u001b[0m \u001b[38;5;124;03m    kwarg; otherwise ``JSONDecoder`` is used.\u001b[39;00m\n\u001b[1;32m    292\u001b[0m \u001b[38;5;124;03m    \"\"\"\u001b[39;00m\n\u001b[0;32m--> 293\u001b[0m     \u001b[38;5;28;01mreturn\u001b[39;00m loads(fp\u001b[38;5;241m.\u001b[39mread(),\n\u001b[1;32m    294\u001b[0m         \u001b[38;5;28mcls\u001b[39m\u001b[38;5;241m=\u001b[39m\u001b[38;5;28mcls\u001b[39m, object_hook\u001b[38;5;241m=\u001b[39mobject_hook,\n\u001b[1;32m    295\u001b[0m         parse_float\u001b[38;5;241m=\u001b[39mparse_float, parse_int\u001b[38;5;241m=\u001b[39mparse_int,\n\u001b[1;32m    296\u001b[0m         parse_constant\u001b[38;5;241m=\u001b[39mparse_constant, object_pairs_hook\u001b[38;5;241m=\u001b[39mobject_pairs_hook, \u001b[38;5;241m*\u001b[39m\u001b[38;5;241m*\u001b[39mkw)\n",
      "File \u001b[0;32m~/anaconda3/lib/python3.11/json/__init__.py:346\u001b[0m, in \u001b[0;36mloads\u001b[0;34m(s, cls, object_hook, parse_float, parse_int, parse_constant, object_pairs_hook, **kw)\u001b[0m\n\u001b[1;32m    341\u001b[0m     s \u001b[38;5;241m=\u001b[39m s\u001b[38;5;241m.\u001b[39mdecode(detect_encoding(s), \u001b[38;5;124m'\u001b[39m\u001b[38;5;124msurrogatepass\u001b[39m\u001b[38;5;124m'\u001b[39m)\n\u001b[1;32m    343\u001b[0m \u001b[38;5;28;01mif\u001b[39;00m (\u001b[38;5;28mcls\u001b[39m \u001b[38;5;129;01mis\u001b[39;00m \u001b[38;5;28;01mNone\u001b[39;00m \u001b[38;5;129;01mand\u001b[39;00m object_hook \u001b[38;5;129;01mis\u001b[39;00m \u001b[38;5;28;01mNone\u001b[39;00m \u001b[38;5;129;01mand\u001b[39;00m\n\u001b[1;32m    344\u001b[0m         parse_int \u001b[38;5;129;01mis\u001b[39;00m \u001b[38;5;28;01mNone\u001b[39;00m \u001b[38;5;129;01mand\u001b[39;00m parse_float \u001b[38;5;129;01mis\u001b[39;00m \u001b[38;5;28;01mNone\u001b[39;00m \u001b[38;5;129;01mand\u001b[39;00m\n\u001b[1;32m    345\u001b[0m         parse_constant \u001b[38;5;129;01mis\u001b[39;00m \u001b[38;5;28;01mNone\u001b[39;00m \u001b[38;5;129;01mand\u001b[39;00m object_pairs_hook \u001b[38;5;129;01mis\u001b[39;00m \u001b[38;5;28;01mNone\u001b[39;00m \u001b[38;5;129;01mand\u001b[39;00m \u001b[38;5;129;01mnot\u001b[39;00m kw):\n\u001b[0;32m--> 346\u001b[0m     \u001b[38;5;28;01mreturn\u001b[39;00m _default_decoder\u001b[38;5;241m.\u001b[39mdecode(s)\n\u001b[1;32m    347\u001b[0m \u001b[38;5;28;01mif\u001b[39;00m \u001b[38;5;28mcls\u001b[39m \u001b[38;5;129;01mis\u001b[39;00m \u001b[38;5;28;01mNone\u001b[39;00m:\n\u001b[1;32m    348\u001b[0m     \u001b[38;5;28mcls\u001b[39m \u001b[38;5;241m=\u001b[39m JSONDecoder\n",
      "File \u001b[0;32m~/anaconda3/lib/python3.11/json/decoder.py:337\u001b[0m, in \u001b[0;36mJSONDecoder.decode\u001b[0;34m(self, s, _w)\u001b[0m\n\u001b[1;32m    332\u001b[0m \u001b[38;5;28;01mdef\u001b[39;00m \u001b[38;5;21mdecode\u001b[39m(\u001b[38;5;28mself\u001b[39m, s, _w\u001b[38;5;241m=\u001b[39mWHITESPACE\u001b[38;5;241m.\u001b[39mmatch):\n\u001b[1;32m    333\u001b[0m \u001b[38;5;250m    \u001b[39m\u001b[38;5;124;03m\"\"\"Return the Python representation of ``s`` (a ``str`` instance\u001b[39;00m\n\u001b[1;32m    334\u001b[0m \u001b[38;5;124;03m    containing a JSON document).\u001b[39;00m\n\u001b[1;32m    335\u001b[0m \n\u001b[1;32m    336\u001b[0m \u001b[38;5;124;03m    \"\"\"\u001b[39;00m\n\u001b[0;32m--> 337\u001b[0m     obj, end \u001b[38;5;241m=\u001b[39m \u001b[38;5;28mself\u001b[39m\u001b[38;5;241m.\u001b[39mraw_decode(s, idx\u001b[38;5;241m=\u001b[39m_w(s, \u001b[38;5;241m0\u001b[39m)\u001b[38;5;241m.\u001b[39mend())\n\u001b[1;32m    338\u001b[0m     end \u001b[38;5;241m=\u001b[39m _w(s, end)\u001b[38;5;241m.\u001b[39mend()\n\u001b[1;32m    339\u001b[0m     \u001b[38;5;28;01mif\u001b[39;00m end \u001b[38;5;241m!=\u001b[39m \u001b[38;5;28mlen\u001b[39m(s):\n",
      "File \u001b[0;32m~/anaconda3/lib/python3.11/json/decoder.py:355\u001b[0m, in \u001b[0;36mJSONDecoder.raw_decode\u001b[0;34m(self, s, idx)\u001b[0m\n\u001b[1;32m    353\u001b[0m     obj, end \u001b[38;5;241m=\u001b[39m \u001b[38;5;28mself\u001b[39m\u001b[38;5;241m.\u001b[39mscan_once(s, idx)\n\u001b[1;32m    354\u001b[0m \u001b[38;5;28;01mexcept\u001b[39;00m \u001b[38;5;167;01mStopIteration\u001b[39;00m \u001b[38;5;28;01mas\u001b[39;00m err:\n\u001b[0;32m--> 355\u001b[0m     \u001b[38;5;28;01mraise\u001b[39;00m JSONDecodeError(\u001b[38;5;124m\"\u001b[39m\u001b[38;5;124mExpecting value\u001b[39m\u001b[38;5;124m\"\u001b[39m, s, err\u001b[38;5;241m.\u001b[39mvalue) \u001b[38;5;28;01mfrom\u001b[39;00m \u001b[38;5;28;01mNone\u001b[39;00m\n\u001b[1;32m    356\u001b[0m \u001b[38;5;28;01mreturn\u001b[39;00m obj, end\n",
      "\u001b[0;31mJSONDecodeError\u001b[0m: Expecting value: line 1 column 1 (char 0)"
     ]
    }
   ],
   "source": [
    "DATA_PATH = \"./data/additional_datas.json\"\n",
    "\n",
    "with open(DATA_PATH, \"r\") as fichier:\n",
    "    data = json.load(fichier)\n",
    "\n",
    "\n",
    "df = pd.DataFrame.from_dict(data, orient='index')\n",
    "df = df.stack().reset_index(level=1, drop=True).reset_index()\n",
    "df.columns = ['Label', 'Text']\n",
    "df = df[['Text', 'Label']]\n",
    "\n",
    "numerize_labels = {'Politics':0, 'Health':1, 'Finance':2, 'Travel':3, 'Food':4, 'Education':5,\n",
    "       'Environment':6, 'Fashion':7, 'Science':8, 'Sports':9, 'Technology':10, 'Entertainment':11}\n",
    "\n",
    "df.Label = df.Label.map(numerize_labels)\n",
    "df.head()"
   ]
  },
  {
   "cell_type": "code",
   "execution_count": null,
   "id": "3ac59e64",
   "metadata": {},
   "outputs": [
    {
     "name": "stderr",
     "output_type": "stream",
     "text": [
      "Some weights of BertForSequenceClassification were not initialized from the model checkpoint at bert-base-uncased and are newly initialized: ['classifier.bias', 'classifier.weight']\n",
      "You should probably TRAIN this model on a down-stream task to be able to use it for predictions and inference.\n",
      "/Users/etienne/anaconda3/lib/python3.11/site-packages/accelerate/accelerator.py:432: FutureWarning: Passing the following arguments to `Accelerator` is deprecated and will be removed in version 1.0 of Accelerate: dict_keys(['dispatch_batches', 'split_batches', 'even_batches', 'use_seedable_sampler']). Please pass an `accelerate.DataLoaderConfiguration` instead: \n",
      "dataloader_config = DataLoaderConfiguration(dispatch_batches=None, split_batches=False, even_batches=True, use_seedable_sampler=True)\n",
      "  warnings.warn(\n"
     ]
    },
    {
     "data": {
      "application/vnd.jupyter.widget-view+json": {
       "model_id": "fd7906d7de9a4fc7be130511e2595220",
       "version_major": 2,
       "version_minor": 0
      },
      "text/plain": [
       "  0%|          | 0/600 [00:00<?, ?it/s]"
      ]
     },
     "metadata": {},
     "output_type": "display_data"
    },
    {
     "name": "stdout",
     "output_type": "stream",
     "text": [
      "{'loss': 2.5962, 'grad_norm': 9.0806245803833, 'learning_rate': 1.0000000000000002e-06, 'epoch': 5.0}\n",
      "{'loss': 2.5165, 'grad_norm': 6.362722873687744, 'learning_rate': 2.0000000000000003e-06, 'epoch': 10.0}\n",
      "{'loss': 2.4888, 'grad_norm': 6.0819902420043945, 'learning_rate': 3e-06, 'epoch': 15.0}\n",
      "{'loss': 2.4094, 'grad_norm': 6.955924034118652, 'learning_rate': 4.000000000000001e-06, 'epoch': 20.0}\n",
      "{'loss': 2.2769, 'grad_norm': 17.234756469726562, 'learning_rate': 5e-06, 'epoch': 25.0}\n",
      "{'loss': 2.1932, 'grad_norm': 8.1810884475708, 'learning_rate': 6e-06, 'epoch': 30.0}\n",
      "{'loss': 2.1177, 'grad_norm': 12.641152381896973, 'learning_rate': 7.000000000000001e-06, 'epoch': 35.0}\n",
      "{'loss': 2.021, 'grad_norm': 7.106116771697998, 'learning_rate': 8.000000000000001e-06, 'epoch': 40.0}\n",
      "{'loss': 1.9045, 'grad_norm': 7.161906719207764, 'learning_rate': 9e-06, 'epoch': 45.0}\n",
      "{'loss': 1.7754, 'grad_norm': 7.734902381896973, 'learning_rate': 1e-05, 'epoch': 50.0}\n",
      "{'loss': 1.6299, 'grad_norm': 8.316179275512695, 'learning_rate': 1.1000000000000001e-05, 'epoch': 55.0}\n",
      "{'loss': 1.5289, 'grad_norm': 9.62813949584961, 'learning_rate': 1.2e-05, 'epoch': 60.0}\n",
      "{'loss': 1.3632, 'grad_norm': 8.32586669921875, 'learning_rate': 1.3000000000000001e-05, 'epoch': 65.0}\n",
      "{'loss': 1.1779, 'grad_norm': 7.963521957397461, 'learning_rate': 1.4000000000000001e-05, 'epoch': 70.0}\n",
      "{'loss': 1.0007, 'grad_norm': 11.294899940490723, 'learning_rate': 1.5e-05, 'epoch': 75.0}\n",
      "{'loss': 0.8194, 'grad_norm': 6.7596116065979, 'learning_rate': 1.6000000000000003e-05, 'epoch': 80.0}\n",
      "{'loss': 0.6663, 'grad_norm': 5.161105632781982, 'learning_rate': 1.7000000000000003e-05, 'epoch': 85.0}\n",
      "{'loss': 0.5448, 'grad_norm': 3.429067611694336, 'learning_rate': 1.8e-05, 'epoch': 90.0}\n",
      "{'loss': 0.4016, 'grad_norm': 3.4741108417510986, 'learning_rate': 1.9e-05, 'epoch': 95.0}\n",
      "{'loss': 0.3036, 'grad_norm': 4.564103603363037, 'learning_rate': 2e-05, 'epoch': 100.0}\n",
      "{'loss': 0.2294, 'grad_norm': 1.6634831428527832, 'learning_rate': 2.1e-05, 'epoch': 105.0}\n",
      "{'loss': 0.1547, 'grad_norm': 1.277509331703186, 'learning_rate': 2.2000000000000003e-05, 'epoch': 110.0}\n",
      "{'loss': 0.1076, 'grad_norm': 1.0004370212554932, 'learning_rate': 2.3000000000000003e-05, 'epoch': 115.0}\n",
      "{'loss': 0.0757, 'grad_norm': 0.7954285144805908, 'learning_rate': 2.4e-05, 'epoch': 120.0}\n",
      "{'loss': 0.0565, 'grad_norm': 0.47752752900123596, 'learning_rate': 2.5e-05, 'epoch': 125.0}\n",
      "{'loss': 0.0423, 'grad_norm': 0.41254764795303345, 'learning_rate': 2.6000000000000002e-05, 'epoch': 130.0}\n",
      "{'loss': 0.034, 'grad_norm': 0.28603875637054443, 'learning_rate': 2.7000000000000002e-05, 'epoch': 135.0}\n",
      "{'loss': 0.0272, 'grad_norm': 0.22242441773414612, 'learning_rate': 2.8000000000000003e-05, 'epoch': 140.0}\n",
      "{'loss': 0.0236, 'grad_norm': 0.1649855375289917, 'learning_rate': 2.9e-05, 'epoch': 145.0}\n",
      "{'loss': 0.0214, 'grad_norm': 0.1865203082561493, 'learning_rate': 3e-05, 'epoch': 150.0}\n",
      "{'loss': 0.0183, 'grad_norm': 0.1869247704744339, 'learning_rate': 3.1e-05, 'epoch': 155.0}\n",
      "{'loss': 0.0167, 'grad_norm': 0.1453266441822052, 'learning_rate': 3.2000000000000005e-05, 'epoch': 160.0}\n",
      "{'loss': 0.0149, 'grad_norm': 0.1073434054851532, 'learning_rate': 3.3e-05, 'epoch': 165.0}\n",
      "{'loss': 0.0138, 'grad_norm': 0.1268262416124344, 'learning_rate': 3.4000000000000007e-05, 'epoch': 170.0}\n",
      "{'loss': 0.0125, 'grad_norm': 0.1021537035703659, 'learning_rate': 3.5e-05, 'epoch': 175.0}\n",
      "{'loss': 0.0115, 'grad_norm': 0.1099729910492897, 'learning_rate': 3.6e-05, 'epoch': 180.0}\n",
      "{'loss': 0.0108, 'grad_norm': 0.08431067317724228, 'learning_rate': 3.7e-05, 'epoch': 185.0}\n",
      "{'loss': 0.0098, 'grad_norm': 0.08301801979541779, 'learning_rate': 3.8e-05, 'epoch': 190.0}\n",
      "{'loss': 0.0092, 'grad_norm': 0.08979026973247528, 'learning_rate': 3.9000000000000006e-05, 'epoch': 195.0}\n",
      "{'loss': 0.0086, 'grad_norm': 0.07838892191648483, 'learning_rate': 4e-05, 'epoch': 200.0}\n",
      "{'loss': 0.0079, 'grad_norm': 0.057085953652858734, 'learning_rate': 4.1e-05, 'epoch': 205.0}\n",
      "{'loss': 0.0075, 'grad_norm': 0.07250851392745972, 'learning_rate': 4.2e-05, 'epoch': 210.0}\n",
      "{'loss': 0.0071, 'grad_norm': 0.06783124059438705, 'learning_rate': 4.3e-05, 'epoch': 215.0}\n",
      "{'loss': 0.0066, 'grad_norm': 0.057780105620622635, 'learning_rate': 4.4000000000000006e-05, 'epoch': 220.0}\n",
      "{'loss': 0.0061, 'grad_norm': 0.060885943472385406, 'learning_rate': 4.5e-05, 'epoch': 225.0}\n",
      "{'loss': 0.0058, 'grad_norm': 0.06960886716842651, 'learning_rate': 4.600000000000001e-05, 'epoch': 230.0}\n",
      "{'loss': 0.0054, 'grad_norm': 0.05074885115027428, 'learning_rate': 4.7e-05, 'epoch': 235.0}\n",
      "{'loss': 0.005, 'grad_norm': 0.04058382287621498, 'learning_rate': 4.8e-05, 'epoch': 240.0}\n",
      "{'loss': 0.005, 'grad_norm': 0.0511959008872509, 'learning_rate': 4.9e-05, 'epoch': 245.0}\n",
      "{'loss': 0.0047, 'grad_norm': 0.03946765512228012, 'learning_rate': 5e-05, 'epoch': 250.0}\n",
      "{'loss': 0.0044, 'grad_norm': 0.03545242175459862, 'learning_rate': 4.5e-05, 'epoch': 255.0}\n",
      "{'loss': 0.0043, 'grad_norm': 0.04644951969385147, 'learning_rate': 4e-05, 'epoch': 260.0}\n",
      "{'loss': 0.0041, 'grad_norm': 0.04265638068318367, 'learning_rate': 3.5e-05, 'epoch': 265.0}\n",
      "{'loss': 0.0039, 'grad_norm': 0.03350485861301422, 'learning_rate': 3e-05, 'epoch': 270.0}\n",
      "{'loss': 0.0038, 'grad_norm': 0.03276333585381508, 'learning_rate': 2.5e-05, 'epoch': 275.0}\n",
      "{'loss': 0.0038, 'grad_norm': 0.030916664749383926, 'learning_rate': 2e-05, 'epoch': 280.0}\n",
      "{'loss': 0.0036, 'grad_norm': 0.027151795104146004, 'learning_rate': 1.5e-05, 'epoch': 285.0}\n",
      "{'loss': 0.0036, 'grad_norm': 0.033614661544561386, 'learning_rate': 1e-05, 'epoch': 290.0}\n",
      "{'loss': 0.0035, 'grad_norm': 0.03124501369893551, 'learning_rate': 5e-06, 'epoch': 295.0}\n",
      "{'loss': 0.0036, 'grad_norm': 0.03225478157401085, 'learning_rate': 0.0, 'epoch': 300.0}\n",
      "{'train_runtime': 1576.3715, 'train_samples_per_second': 4.567, 'train_steps_per_second': 0.381, 'train_loss': 0.5455721679950754, 'epoch': 300.0}\n"
     ]
    },
    {
     "data": {
      "application/vnd.jupyter.widget-view+json": {
       "model_id": "b793d32f91ed42cfb2161118f094f0e4",
       "version_major": 2,
       "version_minor": 0
      },
      "text/plain": [
       "  0%|          | 0/1 [00:00<?, ?it/s]"
      ]
     },
     "metadata": {},
     "output_type": "display_data"
    },
    {
     "data": {
      "text/plain": [
       "{'eval_loss': 0.5934091806411743,\n",
       " 'eval_runtime': 0.4953,\n",
       " 'eval_samples_per_second': 24.229,\n",
       " 'eval_steps_per_second': 2.019,\n",
       " 'epoch': 300.0}"
      ]
     },
     "execution_count": 100,
     "metadata": {},
     "output_type": "execute_result"
    }
   ],
   "source": [
    "# Step 1: Split the dataset into training and validation sets\n",
    "train_dataset = pd.DataFrame(columns=['Text', 'Label'])\n",
    "val_dataset = pd.DataFrame(columns=['Text', 'Label'])\n",
    "\n",
    "for key in numerize_labels:\n",
    "    df_key = df[df['Label'] == numerize_labels[key]]\n",
    "    train_dataset = pd.concat([train_dataset, df_key.sample(frac=0.8)])\n",
    "    val_dataset = pd.concat([val_dataset, df_key.drop(df_key.sample(frac=0.8).index)])\n",
    "        \n",
    "# Step 2: Load the pre-trained BERT model and tokenizer\n",
    "model_name = \"bert-base-uncased\"\n",
    "model = AutoModelForSequenceClassification.from_pretrained(model_name, num_labels=len(numerize_labels))\n",
    "tokenizer = AutoTokenizer.from_pretrained(model_name)\n",
    "\n",
    "# Step 3: Tokenize the text data using the BERT tokenizer\n",
    "train_encodings = tokenizer(list(train_dataset['Text']), truncation=True, padding=True)\n",
    "val_encodings = tokenizer(list(val_dataset['Text']), truncation=True, padding=True)\n",
    "\n",
    "# Step 4: Convert the tokenized data into input features compatible with BERT\n",
    "train_dataset = Dataset.from_dict({'input_ids': train_encodings['input_ids'], 'attention_mask': train_encodings['attention_mask'], 'labels': list(train_dataset['Label'])})\n",
    "val_dataset = Dataset.from_dict({'input_ids': val_encodings['input_ids'], 'attention_mask': val_encodings['attention_mask'], 'labels': list(val_dataset['Label'])})\n",
    "\n",
    "# Step 5: Define the model architecture\n",
    "training_args = TrainingArguments(\n",
    "    output_dir='./results',\n",
    "    num_train_epochs=300,\n",
    "    per_device_train_batch_size=16,\n",
    "    per_device_eval_batch_size=64,\n",
    "    warmup_steps=500,\n",
    "    weight_decay=0.01,\n",
    "    logging_dir='./logs',\n",
    "    logging_steps=10\n",
    ")\n",
    "\n",
    "trainer = Trainer(\n",
    "    model=model,\n",
    "    args=training_args,\n",
    "    train_dataset=train_dataset,\n",
    "    eval_dataset=val_dataset\n",
    ")\n",
    "\n",
    "# Step 6: Train the model\n",
    "trainer.train()\n",
    "\n",
    "# Step 7: Evaluate the model\n",
    "trainer.evaluate()\n"
   ]
  },
  {
   "cell_type": "code",
   "execution_count": null,
   "id": "cbec4759",
   "metadata": {},
   "outputs": [],
   "source": [
    "model.save_pretrained(\"./model\")\n"
   ]
  },
  {
   "cell_type": "code",
   "execution_count": null,
   "id": "08d1c466",
   "metadata": {},
   "outputs": [],
   "source": [
    "result = pd.DataFrame(columns=['ID', 'Label'])\n",
    "\n",
    "file_path = \"./data/test_shuffle.txt\"\n",
    "\n",
    "with open(file_path, \"r\") as file:\n",
    "    text = file.read()\n",
    "\n",
    "for i, sentence in enumerate(text.split(\"\\n\")):\n",
    "    inputs = tokenizer.encode_plus(sentence, truncation=True, padding=True, return_tensors=\"pt\")\n",
    "    outputs = model(**inputs)\n",
    "    predicted_label = torch.argmax(outputs.logits).item()\n",
    "    predicted_label_name = list(numerize_labels.keys())[predicted_label]\n",
    "    result = pd.concat([result, pd.DataFrame({'ID': [i], 'Label': [predicted_label_name]})], ignore_index=True)\n",
    "\n",
    "result = result.iloc[:-1]\n",
    "result.to_csv(\"result3.csv\", index=False)"
   ]
  }
 ],
 "metadata": {
  "kernelspec": {
   "display_name": "Python 3 (ipykernel)",
   "language": "python",
   "name": "python3"
  },
  "language_info": {
   "codemirror_mode": {
    "name": "ipython",
    "version": 3
   },
   "file_extension": ".py",
   "mimetype": "text/x-python",
   "name": "python",
   "nbconvert_exporter": "python",
   "pygments_lexer": "ipython3",
   "version": "3.11.4"
  }
 },
 "nbformat": 4,
 "nbformat_minor": 5
}
