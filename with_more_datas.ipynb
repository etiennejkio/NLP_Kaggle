{
 "cells": [
  {
   "cell_type": "code",
   "execution_count": null,
   "id": "b7172852",
   "metadata": {},
   "outputs": [],
   "source": [
    "import json\n",
    "import pandas as pd\n",
    "from transformers import AutoModelForSequenceClassification, AutoTokenizer, TrainingArguments, Trainer\n",
    "import torch\n",
    "from datasets import Dataset\n",
    "import os\n",
    "\n",
    "os.environ[\"TOKENIZERS_PARALLELISM\"] = \"false\""
   ]
  },
  {
   "cell_type": "code",
   "execution_count": null,
   "id": "a0a3c729",
   "metadata": {},
   "outputs": [],
   "source": [
    "DATA_PATH = \"./data/additional_datas.json\"\n",
    "\n",
    "with open(DATA_PATH, \"r\") as fichier:\n",
    "    data = json.load(fichier)\n",
    "\n",
    "\n",
    "df = pd.DataFrame.from_dict(data, orient='index')\n",
    "df = df.stack().reset_index(level=1, drop=True).reset_index()\n",
    "df.columns = ['Label', 'Text']\n",
    "df = df[['Text', 'Label']]\n",
    "\n",
    "numerize_labels = {'Politics':0, 'Health':1, 'Finance':2, 'Travel':3, 'Food':4, 'Education':5,\n",
    "       'Environment':6, 'Fashion':7, 'Science':8, 'Sports':9, 'Technology':10, 'Entertainment':11}\n",
    "\n",
    "df.Label = df.Label.map(numerize_labels)\n",
    "df.head()"
   ]
  },
  {
   "cell_type": "code",
   "execution_count": null,
   "id": "3ac59e64",
   "metadata": {},
   "outputs": [],
   "source": [
    "# Step 1: Split the dataset into training and validation sets\n",
    "train_dataset = pd.DataFrame(columns=['Text', 'Label'])\n",
    "val_dataset = pd.DataFrame(columns=['Text', 'Label'])\n",
    "\n",
    "for key in numerize_labels:\n",
    "    df_key = df[df['Label'] == numerize_labels[key]]\n",
    "    train_dataset = pd.concat([train_dataset, df_key.sample(frac=0.8)])\n",
    "    val_dataset = pd.concat([val_dataset, df_key.drop(df_key.sample(frac=0.8).index)])\n",
    "        \n",
    "# Step 2: Load the pre-trained BERT model and tokenizer\n",
    "model_name = \"bert-base-uncased\"\n",
    "model = AutoModelForSequenceClassification.from_pretrained(model_name, num_labels=len(numerize_labels))\n",
    "tokenizer = AutoTokenizer.from_pretrained(model_name)\n",
    "\n",
    "# Check if a GPU is available and set the device accordingly\n",
    "device = torch.device(\"cuda\" if torch.cuda.is_available() else \"cpu\")\n",
    "print(\"device : \", device)\n",
    "\n",
    "# Move the model to the device\n",
    "model.to(device)\n",
    "\n",
    "# Step 3: Tokenize the text data using the BERT tokenizer\n",
    "train_encodings = tokenizer(list(train_dataset['Text']), truncation=True, padding=True)\n",
    "val_encodings = tokenizer(list(val_dataset['Text']), truncation=True, padding=True)\n",
    "\n",
    "# Step 4: Convert the tokenized data into input features compatible with BERT\n",
    "train_dataset = Dataset.from_dict({'input_ids': train_encodings['input_ids'], 'attention_mask': train_encodings['attention_mask'], 'labels': list(train_dataset['Label'])})\n",
    "val_dataset = Dataset.from_dict({'input_ids': val_encodings['input_ids'], 'attention_mask': val_encodings['attention_mask'], 'labels': list(val_dataset['Label'])})\n",
    "\n",
    "# Step 5: Define the model architecture\n",
    "training_args = TrainingArguments(\n",
    "    output_dir='./results',\n",
    "    num_train_epochs=2,\n",
    "    per_device_train_batch_size=16,\n",
    "    per_device_eval_batch_size=64,\n",
    "    warmup_steps=500,\n",
    "    weight_decay=0.01,\n",
    "    logging_dir='./logs',\n",
    "    logging_steps=10\n",
    ")\n",
    "\n",
    "trainer = Trainer(\n",
    "    model=model,\n",
    "    args=training_args,\n",
    "    train_dataset=train_dataset,\n",
    "    eval_dataset=val_dataset\n",
    ")\n",
    "\n",
    "# Step 6: Train the model\n",
    "trainer.train()\n",
    "\n",
    "# Step 7: Evaluate the model\n",
    "trainer.evaluate()"
   ]
  },
  {
   "cell_type": "code",
   "execution_count": null,
   "id": "cbec4759",
   "metadata": {},
   "outputs": [],
   "source": [
    "model.save_pretrained(\"./model\")"
   ]
  },
  {
   "cell_type": "code",
   "execution_count": null,
   "id": "08d1c466",
   "metadata": {},
   "outputs": [],
   "source": [
    "result = pd.DataFrame(columns=['ID', 'Label'])\n",
    "\n",
    "file_path = \"./data/test_shuffle.txt\"\n",
    "\n",
    "with open(file_path, \"r\") as file:\n",
    "    text = file.read()\n",
    "\n",
    "for i, sentence in enumerate(text.split(\"\\n\")):\n",
    "    inputs = tokenizer.encode_plus(sentence, truncation=True, padding=True, return_tensors=\"pt\")\n",
    "    # Déplacer les tenseurs d'entrée vers l'appareil approprié (GPU ou CPU)\n",
    "    inputs = {k: v.to(device) for k, v in inputs.items()}\n",
    "    outputs = model(**inputs)\n",
    "    predicted_label = torch.argmax(outputs.logits).item()\n",
    "    predicted_label_name = list(numerize_labels.keys())[predicted_label]\n",
    "    result = pd.concat([result, pd.DataFrame({'ID': [i], 'Label': [predicted_label_name]})], ignore_index=True)\n",
    "\n",
    "result = result.iloc[:-1]\n",
    "result.to_csv(\"result3.csv\", index=False)"
   ]
  }
 ],
 "metadata": {
  "kernelspec": {
   "display_name": "Python 3 (ipykernel)",
   "language": "python",
   "name": "python3"
  },
  "language_info": {
   "codemirror_mode": {
    "name": "ipython",
    "version": 3
   },
   "file_extension": ".py",
   "mimetype": "text/x-python",
   "name": "python",
   "nbconvert_exporter": "python",
   "pygments_lexer": "ipython3",
   "version": "3.11.4"
  }
 },
 "nbformat": 4,
 "nbformat_minor": 5
}
