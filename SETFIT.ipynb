{
 "cells": [
  {
   "cell_type": "code",
   "execution_count": 1,
   "id": "e83aa698-d5b3-4d87-9c10-f7b8ca19cbac",
   "metadata": {},
   "outputs": [
    {
     "name": "stderr",
     "output_type": "stream",
     "text": [
      "2024-04-10 20:36:54.172106: I tensorflow/core/platform/cpu_feature_guard.cc:182] This TensorFlow binary is optimized to use available CPU instructions in performance-critical operations.\n",
      "To enable the following instructions: AVX2 FMA, in other operations, rebuild TensorFlow with the appropriate compiler flags.\n"
     ]
    }
   ],
   "source": [
    "from datasets import load_dataset, Dataset\n",
    "from sentence_transformers.losses import CosineSimilarityLoss\n",
    "from setfit import SetFitModel, SetFitTrainer, sample_dataset\n",
    "import json\n",
    "import csv\n",
    "import nlpaug.augmenter.word.back_translation as nat\n",
    "import nlpaug.augmenter.word.synonym as nas"
   ]
  },
  {
   "cell_type": "code",
   "execution_count": 2,
   "id": "10aee11d-bb4b-464b-8d9b-c3f8b5dbbc11",
   "metadata": {},
   "outputs": [],
   "source": [
    "# Map labels to numbers\n",
    "numerize_labels = {'Politics':0, 'Health':1, 'Finance':2, 'Travel':3, 'Food':4, 'Education':5,\n",
    "       'Environment':6, 'Fashion':7, 'Science':8, 'Sports':9, 'Technology':10, 'Entertainment':11}\n",
    "\n",
    "# Load your JSON file\n",
    "with open('./data/train.json', 'r') as f:\n",
    "    data = json.load(f)\n",
    "\n",
    "# Convert the data into the required format\n",
    "formatted_data = []\n",
    "idx=0\n",
    "for label, sentences in data.items():\n",
    "    for  sentence in sentences:\n",
    "        formatted_data.append({'label': numerize_labels[label], 'sentence': sentence, 'idx': idx})\n",
    "        idx+=1\n",
    "\n",
    "# Create a HuggingFace Dataset\n",
    "dataset = Dataset.from_list(formatted_data)"
   ]
  },
  {
   "cell_type": "code",
   "execution_count": 3,
   "id": "4192695e-60eb-4366-ab55-99ae21505aa7",
   "metadata": {},
   "outputs": [
    {
     "data": {
      "text/plain": [
       "Dataset({\n",
       "    features: ['label', 'sentence', 'idx'],\n",
       "    num_rows: 36\n",
       "})"
      ]
     },
     "execution_count": 3,
     "metadata": {},
     "output_type": "execute_result"
    }
   ],
   "source": [
    "dataset"
   ]
  },
  {
   "cell_type": "code",
   "execution_count": 5,
   "id": "c529ab7c-ae6b-4b20-a8b2-7130f5144c77",
   "metadata": {},
   "outputs": [],
   "source": [
    "# Initialize the back translation augmenter\n",
    "bt_aug = nat.BackTranslationAug()\n",
    "\n",
    "# Initialize the synonym augmenter\n",
    "syn_aug = nas.SynonymAug(aug_src='wordnet')\n",
    "\n",
    "# Create an empty list to store the augmented sentences\n",
    "augmented_data = []\n",
    "\n",
    "# Loop over each sentence in the dataset\n",
    "idx=0\n",
    "for label, sentence in zip(dataset['label'], dataset['sentence']):\n",
    "    # Add the original sentence and label to the list\n",
    "    augmented_data.append({'label': label, 'sentence': sentence, 'idx': idx})\n",
    "    idx+=1\n",
    "\n",
    "    # Perform back translation augmentation\n",
    "    augmented_sentence1 = bt_aug.augment(sentence)\n",
    "    augmented_data.append({'label': label, 'sentence': augmented_sentence1[0], 'idx': idx})\n",
    "    idx+=1\n",
    "\n",
    "    # Perform synonym augmentation\n",
    "    augmented_sentence2 = syn_aug.augment(sentence)\n",
    "\n",
    "    # Add the augmented sentence and label to the list\n",
    "    augmented_data.append({'label': label, 'sentence': augmented_sentence2[0], 'idx': idx})\n",
    "    idx+=1\n",
    "\n",
    "# Print the first 10 augmented sentences"
   ]
  },
  {
   "cell_type": "code",
   "execution_count": 6,
   "id": "29707e70-5917-4e4d-a22a-789c0b2d8d95",
   "metadata": {},
   "outputs": [],
   "source": [
    "augmented_dataset = Dataset.from_list(augmented_data)"
   ]
  },
  {
   "cell_type": "code",
   "execution_count": 14,
   "id": "f99fe411-1a0b-42bb-946c-5134051b293c",
   "metadata": {},
   "outputs": [
    {
     "data": {
      "application/vnd.jupyter.widget-view+json": {
       "model_id": "9d76e6a998d8469cb61d39c6b1a78a06",
       "version_major": 2,
       "version_minor": 0
      },
      "text/plain": [
       "config.json:   0%|          | 0.00/594 [00:00<?, ?B/s]"
      ]
     },
     "metadata": {},
     "output_type": "display_data"
    },
    {
     "data": {
      "application/vnd.jupyter.widget-view+json": {
       "model_id": "6b991fb6c86a4265adcacebf86fd574d",
       "version_major": 2,
       "version_minor": 0
      },
      "text/plain": [
       "modules.json:   0%|          | 0.00/229 [00:00<?, ?B/s]"
      ]
     },
     "metadata": {},
     "output_type": "display_data"
    },
    {
     "data": {
      "application/vnd.jupyter.widget-view+json": {
       "model_id": "75b4acfb28b449b2862822e6eb408cbc",
       "version_major": 2,
       "version_minor": 0
      },
      "text/plain": [
       "config_sentence_transformers.json:   0%|          | 0.00/122 [00:00<?, ?B/s]"
      ]
     },
     "metadata": {},
     "output_type": "display_data"
    },
    {
     "data": {
      "application/vnd.jupyter.widget-view+json": {
       "model_id": "005e82739a45415786eddc4e0b7a3dde",
       "version_major": 2,
       "version_minor": 0
      },
      "text/plain": [
       "README.md:   0%|          | 0.00/3.73k [00:00<?, ?B/s]"
      ]
     },
     "metadata": {},
     "output_type": "display_data"
    },
    {
     "data": {
      "application/vnd.jupyter.widget-view+json": {
       "model_id": "e0dda61b209f452a91c7072708e9b997",
       "version_major": 2,
       "version_minor": 0
      },
      "text/plain": [
       "sentence_bert_config.json:   0%|          | 0.00/53.0 [00:00<?, ?B/s]"
      ]
     },
     "metadata": {},
     "output_type": "display_data"
    },
    {
     "data": {
      "application/vnd.jupyter.widget-view+json": {
       "model_id": "1506ab6895f74146a8eb486585abe151",
       "version_major": 2,
       "version_minor": 0
      },
      "text/plain": [
       "model.safetensors:   0%|          | 0.00/438M [00:00<?, ?B/s]"
      ]
     },
     "metadata": {},
     "output_type": "display_data"
    },
    {
     "data": {
      "application/vnd.jupyter.widget-view+json": {
       "model_id": "c2eb0ac3abc44808a25cf8f122c3fa05",
       "version_major": 2,
       "version_minor": 0
      },
      "text/plain": [
       "tokenizer_config.json:   0%|          | 0.00/1.19k [00:00<?, ?B/s]"
      ]
     },
     "metadata": {},
     "output_type": "display_data"
    },
    {
     "data": {
      "application/vnd.jupyter.widget-view+json": {
       "model_id": "6d6f38104e07411caf1fb77a0fba2c83",
       "version_major": 2,
       "version_minor": 0
      },
      "text/plain": [
       "vocab.txt:   0%|          | 0.00/232k [00:00<?, ?B/s]"
      ]
     },
     "metadata": {},
     "output_type": "display_data"
    },
    {
     "data": {
      "application/vnd.jupyter.widget-view+json": {
       "model_id": "405ef61337814ab1b20c742c4a6ef22d",
       "version_major": 2,
       "version_minor": 0
      },
      "text/plain": [
       "tokenizer.json:   0%|          | 0.00/466k [00:00<?, ?B/s]"
      ]
     },
     "metadata": {},
     "output_type": "display_data"
    },
    {
     "data": {
      "application/vnd.jupyter.widget-view+json": {
       "model_id": "dd85defdb16f45eb8568735a7e14e986",
       "version_major": 2,
       "version_minor": 0
      },
      "text/plain": [
       "special_tokens_map.json:   0%|          | 0.00/239 [00:00<?, ?B/s]"
      ]
     },
     "metadata": {},
     "output_type": "display_data"
    },
    {
     "data": {
      "application/vnd.jupyter.widget-view+json": {
       "model_id": "2b3868f969164353a8a48ac3f2fe484a",
       "version_major": 2,
       "version_minor": 0
      },
      "text/plain": [
       "1_Pooling/config.json:   0%|          | 0.00/190 [00:00<?, ?B/s]"
      ]
     },
     "metadata": {},
     "output_type": "display_data"
    },
    {
     "name": "stderr",
     "output_type": "stream",
     "text": [
      "model_head.pkl not found on HuggingFace Hub, initialising classification head with random weights. You should TRAIN this model on a downstream task to use it for predictions and inference.\n"
     ]
    }
   ],
   "source": [
    "model = SetFitModel.from_pretrained('sentence-transformers/paraphrase-mpnet-base-v2').to('cuda')"
   ]
  },
  {
   "cell_type": "code",
   "execution_count": 15,
   "id": "e186153f-e012-46d1-86aa-64efc35e482c",
   "metadata": {},
   "outputs": [
    {
     "name": "stderr",
     "output_type": "stream",
     "text": [
      "/tmp/ipykernel_338/4102153673.py:1: DeprecationWarning: `SetFitTrainer` has been deprecated and will be removed in v2.0.0 of SetFit. Please use `Trainer` instead.\n",
      "  trainer = SetFitTrainer(\n",
      "Applying column mapping to the training dataset\n",
      "Applying column mapping to the evaluation dataset\n"
     ]
    },
    {
     "data": {
      "application/vnd.jupyter.widget-view+json": {
       "model_id": "0e64291ac3ba46329bc18bad48564197",
       "version_major": 2,
       "version_minor": 0
      },
      "text/plain": [
       "Map:   0%|          | 0/108 [00:00<?, ? examples/s]"
      ]
     },
     "metadata": {},
     "output_type": "display_data"
    }
   ],
   "source": [
    "trainer = SetFitTrainer(\n",
    "model=model,\n",
    "train_dataset=augmented_dataset,\n",
    "eval_dataset=augmented_dataset,\n",
    "loss_class=CosineSimilarityLoss,\n",
    "metric=\"accuracy\",\n",
    "batch_size=16,\n",
    "num_iterations=20,\n",
    "num_epochs=1,\n",
    "column_mapping={\"sentence\": \"text\", \"label\": \"label\"})"
   ]
  },
  {
   "cell_type": "code",
   "execution_count": 16,
   "id": "0c84daf6-21df-4001-aeaf-a2a273feee47",
   "metadata": {},
   "outputs": [
    {
     "name": "stderr",
     "output_type": "stream",
     "text": [
      "***** Running training *****\n",
      "  Num unique pairs = 4320\n",
      "  Batch size = 16\n",
      "  Num epochs = 1\n",
      "  Total optimization steps = 270\n"
     ]
    },
    {
     "data": {
      "text/html": [
       "\n",
       "    <div>\n",
       "      \n",
       "      <progress value='270' max='270' style='width:300px; height:20px; vertical-align: middle;'></progress>\n",
       "      [270/270 00:34, Epoch 1/0]\n",
       "    </div>\n",
       "    <table border=\"1\" class=\"dataframe\">\n",
       "  <thead>\n",
       " <tr style=\"text-align: left;\">\n",
       "      <th>Step</th>\n",
       "      <th>Training Loss</th>\n",
       "    </tr>\n",
       "  </thead>\n",
       "  <tbody>\n",
       "  </tbody>\n",
       "</table><p>"
      ],
      "text/plain": [
       "<IPython.core.display.HTML object>"
      ]
     },
     "metadata": {},
     "output_type": "display_data"
    }
   ],
   "source": [
    "trainer.train()"
   ]
  },
  {
   "cell_type": "code",
   "execution_count": 17,
   "id": "e46e71cb-68bd-491b-9550-0a22d7bddbfd",
   "metadata": {},
   "outputs": [
    {
     "name": "stderr",
     "output_type": "stream",
     "text": [
      "***** Running evaluation *****\n"
     ]
    },
    {
     "data": {
      "application/vnd.jupyter.widget-view+json": {
       "model_id": "a598b4d42d0043b59bfcaadc2836121c",
       "version_major": 2,
       "version_minor": 0
      },
      "text/plain": [
       "Downloading builder script:   0%|          | 0.00/4.20k [00:00<?, ?B/s]"
      ]
     },
     "metadata": {},
     "output_type": "display_data"
    },
    {
     "name": "stdout",
     "output_type": "stream",
     "text": [
      "{'accuracy': 1.0}\n"
     ]
    }
   ],
   "source": [
    "metrics = trainer.evaluate()\n",
    "print(metrics)"
   ]
  },
  {
   "cell_type": "code",
   "execution_count": 18,
   "id": "aa7baac0-db26-4265-9bdf-da7a97ae4816",
   "metadata": {},
   "outputs": [],
   "source": [
    "with open('./data/test_shuffle.txt', 'r') as f:\n",
    "    test = f.readlines()\n",
    "\n",
    "# Remove newline characters\n",
    "test = [line.strip() for line in test]"
   ]
  },
  {
   "cell_type": "code",
   "execution_count": 19,
   "id": "dc37bcbd-5e6f-481b-9968-a9c3f9485301",
   "metadata": {},
   "outputs": [],
   "source": [
    "predicted_labels=model(test)"
   ]
  },
  {
   "cell_type": "code",
   "execution_count": 20,
   "id": "77bc59cc-01b3-467f-9b58-fc467782c13e",
   "metadata": {},
   "outputs": [],
   "source": [
    "predicted_labels=[int(a) for a in list(predicted_labels)]"
   ]
  },
  {
   "cell_type": "code",
   "execution_count": 21,
   "id": "b65fc715-61d1-40f7-a909-cfca2fe81e4b",
   "metadata": {},
   "outputs": [],
   "source": [
    "reverse_numerize_labels = {v: k for k, v in numerize_labels.items()}\n",
    "predictions=[]\n",
    "for i in range(len(predicted_labels)):\n",
    "    predictions.append((i, reverse_numerize_labels[predicted_labels[i]]))"
   ]
  },
  {
   "cell_type": "code",
   "execution_count": 22,
   "id": "c149d91e-900c-4a05-98f8-92405b9f97eb",
   "metadata": {},
   "outputs": [],
   "source": [
    "with open('predictions.csv', 'w', newline='') as f:\n",
    "    # Create a CSV writer object\n",
    "    writer = csv.writer(f)\n",
    "\n",
    "    # Write the header row\n",
    "    writer.writerow(['ID', 'Label'])\n",
    "\n",
    "    # Write the data rows\n",
    "    writer.writerows(predictions)"
   ]
  },
  {
   "cell_type": "code",
   "execution_count": null,
   "id": "788d8d10-f77c-409c-9a56-185ef504fc63",
   "metadata": {},
   "outputs": [],
   "source": []
  }
 ],
 "metadata": {
  "kernelspec": {
   "display_name": "Python 3 (ipykernel)",
   "language": "python",
   "name": "python3"
  },
  "language_info": {
   "codemirror_mode": {
    "name": "ipython",
    "version": 3
   },
   "file_extension": ".py",
   "mimetype": "text/x-python",
   "name": "python",
   "nbconvert_exporter": "python",
   "pygments_lexer": "ipython3",
   "version": "3.8.10"
  }
 },
 "nbformat": 4,
 "nbformat_minor": 5
}
