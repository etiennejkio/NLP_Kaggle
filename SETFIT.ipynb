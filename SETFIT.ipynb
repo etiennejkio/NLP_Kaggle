{
 "cells": [
  {
   "cell_type": "code",
   "execution_count": 1,
   "id": "e83aa698-d5b3-4d87-9c10-f7b8ca19cbac",
   "metadata": {},
   "outputs": [
    {
     "name": "stderr",
     "output_type": "stream",
     "text": [
      "2024-04-11 15:08:39.709825: I tensorflow/core/platform/cpu_feature_guard.cc:182] This TensorFlow binary is optimized to use available CPU instructions in performance-critical operations.\n",
      "To enable the following instructions: AVX2 AVX512F FMA, in other operations, rebuild TensorFlow with the appropriate compiler flags.\n"
     ]
    }
   ],
   "source": [
    "from datasets import load_dataset, Dataset, concatenate_datasets\n",
    "from sentence_transformers.losses import CosineSimilarityLoss\n",
    "from setfit import SetFitModel, SetFitTrainer, sample_dataset\n",
    "import json\n",
    "import csv\n",
    "import nlpaug.augmenter.word.back_translation as nat\n",
    "import nlpaug.augmenter.word.synonym as nas\n",
    "import numpy as np"
   ]
  },
  {
   "cell_type": "code",
   "execution_count": 3,
   "id": "10aee11d-bb4b-464b-8d9b-c3f8b5dbbc11",
   "metadata": {},
   "outputs": [],
   "source": [
    "# Map labels to numbers\n",
    "numerize_labels = {'Politics':0, 'Health':1, 'Finance':2, 'Travel':3, 'Food':4, 'Education':5,\n",
    "       'Environment':6, 'Fashion':7, 'Science':8, 'Sports':9, 'Technology':10, 'Entertainment':11}\n",
    "\n",
    "# Load your JSON file\n",
    "with open('./data/train.json', 'r') as f:\n",
    "    data = json.load(f)\n",
    "\n",
    "# Convert the data into the required format\n",
    "formatted_data = []\n",
    "idx=0\n",
    "for label, sentences in data.items():\n",
    "    for  sentence in sentences:\n",
    "        formatted_data.append({'label': numerize_labels[label], 'sentence': sentence, 'idx': idx})\n",
    "        idx+=1\n",
    "\n",
    "# Create a HuggingFace Dataset\n",
    "dataset = Dataset.from_list(formatted_data)"
   ]
  },
  {
   "cell_type": "code",
   "execution_count": 4,
   "id": "4192695e-60eb-4366-ab55-99ae21505aa7",
   "metadata": {},
   "outputs": [
    {
     "data": {
      "text/plain": [
       "Dataset({\n",
       "    features: ['label', 'sentence', 'idx'],\n",
       "    num_rows: 36\n",
       "})"
      ]
     },
     "execution_count": 4,
     "metadata": {},
     "output_type": "execute_result"
    }
   ],
   "source": [
    "dataset"
   ]
  },
  {
   "cell_type": "code",
   "execution_count": 5,
   "id": "f99fe411-1a0b-42bb-946c-5134051b293c",
   "metadata": {},
   "outputs": [
    {
     "name": "stderr",
     "output_type": "stream",
     "text": [
      "model_head.pkl not found on HuggingFace Hub, initialising classification head with random weights. You should TRAIN this model on a downstream task to use it for predictions and inference.\n"
     ]
    }
   ],
   "source": [
    "model = SetFitModel.from_pretrained('sentence-transformers/paraphrase-mpnet-base-v2')"
   ]
  },
  {
   "cell_type": "code",
   "execution_count": 6,
   "id": "e186153f-e012-46d1-86aa-64efc35e482c",
   "metadata": {},
   "outputs": [
    {
     "name": "stderr",
     "output_type": "stream",
     "text": [
      "/tmp/ipykernel_26899/3450520037.py:1: DeprecationWarning: `SetFitTrainer` has been deprecated and will be removed in v2.0.0 of SetFit. Please use `Trainer` instead.\n",
      "  trainer = SetFitTrainer(\n",
      "Applying column mapping to the training dataset\n",
      "Applying column mapping to the evaluation dataset\n"
     ]
    },
    {
     "data": {
      "application/vnd.jupyter.widget-view+json": {
       "model_id": "6bf5b56946074494835eba97315834e8",
       "version_major": 2,
       "version_minor": 0
      },
      "text/plain": [
       "Map:   0%|          | 0/36 [00:00<?, ? examples/s]"
      ]
     },
     "metadata": {},
     "output_type": "display_data"
    }
   ],
   "source": [
    "trainer = SetFitTrainer(\n",
    "model=model,\n",
    "train_dataset=dataset,\n",
    "eval_dataset=dataset,\n",
    "loss_class=CosineSimilarityLoss,\n",
    "metric=\"accuracy\",\n",
    "batch_size=16,\n",
    "num_iterations=20,\n",
    "num_epochs=1,\n",
    "column_mapping={\"sentence\": \"text\", \"label\": \"label\"})"
   ]
  },
  {
   "cell_type": "code",
   "execution_count": 7,
   "id": "0c84daf6-21df-4001-aeaf-a2a273feee47",
   "metadata": {},
   "outputs": [
    {
     "name": "stderr",
     "output_type": "stream",
     "text": [
      "***** Running training *****\n",
      "  Num unique pairs = 1440\n",
      "  Batch size = 16\n",
      "  Num epochs = 1\n",
      "  Total optimization steps = 90\n"
     ]
    },
    {
     "data": {
      "text/html": [
       "\n",
       "    <div>\n",
       "      \n",
       "      <progress value='90' max='90' style='width:300px; height:20px; vertical-align: middle;'></progress>\n",
       "      [90/90 00:10, Epoch 1/0]\n",
       "    </div>\n",
       "    <table border=\"1\" class=\"dataframe\">\n",
       "  <thead>\n",
       " <tr style=\"text-align: left;\">\n",
       "      <th>Step</th>\n",
       "      <th>Training Loss</th>\n",
       "    </tr>\n",
       "  </thead>\n",
       "  <tbody>\n",
       "  </tbody>\n",
       "</table><p>"
      ],
      "text/plain": [
       "<IPython.core.display.HTML object>"
      ]
     },
     "metadata": {},
     "output_type": "display_data"
    }
   ],
   "source": [
    "trainer.train()"
   ]
  },
  {
   "cell_type": "code",
   "execution_count": 8,
   "id": "e46e71cb-68bd-491b-9550-0a22d7bddbfd",
   "metadata": {},
   "outputs": [
    {
     "name": "stderr",
     "output_type": "stream",
     "text": [
      "***** Running evaluation *****\n"
     ]
    },
    {
     "name": "stdout",
     "output_type": "stream",
     "text": [
      "{'accuracy': 1.0}\n"
     ]
    }
   ],
   "source": [
    "metrics = trainer.evaluate()\n",
    "print(metrics)"
   ]
  },
  {
   "cell_type": "code",
   "execution_count": 9,
   "id": "aa7baac0-db26-4265-9bdf-da7a97ae4816",
   "metadata": {},
   "outputs": [],
   "source": [
    "with open('./data/test_shuffle.txt', 'r') as f:\n",
    "    test = f.readlines()\n",
    "\n",
    "# Remove newline characters\n",
    "test = [line.strip() for line in test]"
   ]
  },
  {
   "cell_type": "code",
   "execution_count": 13,
   "id": "a93bfe8b-6f2f-4ef5-be4c-c9d433fe0bc8",
   "metadata": {},
   "outputs": [
    {
     "name": "stdout",
     "output_type": "stream",
     "text": [
      "1101\n"
     ]
    }
   ],
   "source": [
    "good_preds=[]\n",
    "for sentence in test:\n",
    "    preds=model.predict_proba(sentence)\n",
    "    if preds[np.argmax(preds)]>0.23:\n",
    "        good_preds.append((sentence, model(sentence)))\n",
    "print(len(good_preds))        "
   ]
  },
  {
   "cell_type": "code",
   "execution_count": 14,
   "id": "fe184bff-210a-4e1e-9b1a-0b8b616b5331",
   "metadata": {},
   "outputs": [],
   "source": [
    "reverse_numerize_labels = {v: k for k, v in numerize_labels.items()}"
   ]
  },
  {
   "cell_type": "code",
   "execution_count": 15,
   "id": "f4c50718-d6e7-4789-b09c-4af6aa33ee58",
   "metadata": {},
   "outputs": [
    {
     "name": "stdout",
     "output_type": "stream",
     "text": [
      "{'Finance': 74, 'Environment': 144, 'Science': 65, 'Politics': 110, 'Fashion': 108, 'Education': 104, 'Health': 167, 'Entertainment': 75, 'Technology': 51, 'Food': 38, 'Travel': 84, 'Sports': 81}\n"
     ]
    }
   ],
   "source": [
    "def count_sentences_per_label(good_preds):\n",
    "    # Initialize a dictionary to store the counts per label\n",
    "    label_counts = {}\n",
    "\n",
    "    # Iterate through the (sentence, label) pairs\n",
    "    for sentence, label in good_preds:\n",
    "        # Check if the label exists in the dictionary\n",
    "        if reverse_numerize_labels[int(label)] in label_counts:\n",
    "            # Increment the count for the label\n",
    "            label_counts[reverse_numerize_labels[int(label)]] += 1\n",
    "        else:\n",
    "            # Initialize the count for the label\n",
    "            label_counts[reverse_numerize_labels[int(label)]] = 1\n",
    "\n",
    "    return label_counts\n",
    "\n",
    "# Example usage:\n",
    "label_counts = count_sentences_per_label(good_preds)\n",
    "print(label_counts)"
   ]
  },
  {
   "cell_type": "code",
   "execution_count": 16,
   "id": "d58464d5-25cc-49cf-ba0d-ccd02a55c1f0",
   "metadata": {},
   "outputs": [],
   "source": [
    "def extract_sentences_per_label(good_preds):\n",
    "    # Initialize a dictionary to store sentences per label\n",
    "    sentences_per_label = {}\n",
    "\n",
    "    # Iterate through the (sentence, label) pairs\n",
    "    for sentence, label in good_preds:\n",
    "        # Check if the label exists in the dictionary\n",
    "        if int(label) not in sentences_per_label:\n",
    "            sentences_per_label[int(label)] = []\n",
    "\n",
    "        # Append the sentence to the list corresponding to its label\n",
    "        sentences_per_label[int(label)].append(sentence)\n",
    "\n",
    "    # Initialize a list to store exactly 10 sentences per label\n",
    "    extracted_sentences_per_label = []\n",
    "\n",
    "    # Iterate through the sentences per label and extract 10 sentences for each label\n",
    "    for label, sentences in sentences_per_label.items():\n",
    "        # Extend the list with the first 10 sentences for the label\n",
    "        extracted_sentences_per_label.extend([(sentence, int(label)) for sentence in sentences[:40]])\n",
    "\n",
    "    return extracted_sentences_per_label\n",
    "\n",
    "sentences_per_label = extract_sentences_per_label(good_preds)"
   ]
  },
  {
   "cell_type": "code",
   "execution_count": 17,
   "id": "9d069698-563b-4f2d-8ea5-66037e97a534",
   "metadata": {},
   "outputs": [
    {
     "name": "stdout",
     "output_type": "stream",
     "text": [
      "Dataset({\n",
      "    features: ['label', 'sentence', 'idx'],\n",
      "    num_rows: 514\n",
      "})\n"
     ]
    }
   ],
   "source": [
    "starting_idx = len(dataset)\n",
    "\n",
    "# Create a new dataset with the additional entries\n",
    "new_data = []\n",
    "for idx, (sentence, label) in enumerate(sentences_per_label):\n",
    "    new_data.append({\n",
    "        'label': label,\n",
    "        'sentence': sentence,\n",
    "        'idx': starting_idx + idx\n",
    "    })\n",
    "\n",
    "additional_dataset = Dataset.from_dict({key: [item[key] for item in new_data] for key in new_data[0]})\n",
    "\n",
    "# Concatenate the original dataset with the additional dataset\n",
    "updated_dataset = concatenate_datasets([dataset, additional_dataset])\n",
    "\n",
    "print(updated_dataset)"
   ]
  },
  {
   "cell_type": "code",
   "execution_count": 18,
   "id": "4bb06b36-e184-4a49-ad31-515e99012a2c",
   "metadata": {},
   "outputs": [
    {
     "name": "stderr",
     "output_type": "stream",
     "text": [
      "/tmp/ipykernel_26899/2675843827.py:1: DeprecationWarning: `SetFitTrainer` has been deprecated and will be removed in v2.0.0 of SetFit. Please use `Trainer` instead.\n",
      "  updated_trainer = SetFitTrainer(\n",
      "Applying column mapping to the training dataset\n",
      "Applying column mapping to the evaluation dataset\n"
     ]
    },
    {
     "data": {
      "application/vnd.jupyter.widget-view+json": {
       "model_id": "54a577a0e0a140f5b9ac1090f886fd19",
       "version_major": 2,
       "version_minor": 0
      },
      "text/plain": [
       "Map:   0%|          | 0/514 [00:00<?, ? examples/s]"
      ]
     },
     "metadata": {},
     "output_type": "display_data"
    }
   ],
   "source": [
    "updated_trainer = SetFitTrainer(\n",
    "model=model,\n",
    "train_dataset=updated_dataset,\n",
    "eval_dataset=updated_dataset,\n",
    "loss_class=CosineSimilarityLoss,\n",
    "metric=\"accuracy\",\n",
    "batch_size=16,\n",
    "num_iterations=20,\n",
    "num_epochs=1,\n",
    "column_mapping={\"sentence\": \"text\", \"label\": \"label\"})"
   ]
  },
  {
   "cell_type": "code",
   "execution_count": 19,
   "id": "67efcecc-74bd-46a3-b6ea-29d0cd8f248b",
   "metadata": {},
   "outputs": [
    {
     "name": "stderr",
     "output_type": "stream",
     "text": [
      "***** Running training *****\n",
      "  Num unique pairs = 20560\n",
      "  Batch size = 16\n",
      "  Num epochs = 1\n",
      "  Total optimization steps = 1285\n"
     ]
    },
    {
     "data": {
      "text/html": [
       "\n",
       "    <div>\n",
       "      \n",
       "      <progress value='1285' max='1285' style='width:300px; height:20px; vertical-align: middle;'></progress>\n",
       "      [1285/1285 02:30, Epoch 1/0]\n",
       "    </div>\n",
       "    <table border=\"1\" class=\"dataframe\">\n",
       "  <thead>\n",
       " <tr style=\"text-align: left;\">\n",
       "      <th>Step</th>\n",
       "      <th>Training Loss</th>\n",
       "    </tr>\n",
       "  </thead>\n",
       "  <tbody>\n",
       "  </tbody>\n",
       "</table><p>"
      ],
      "text/plain": [
       "<IPython.core.display.HTML object>"
      ]
     },
     "metadata": {},
     "output_type": "display_data"
    }
   ],
   "source": [
    "updated_trainer.train()"
   ]
  },
  {
   "cell_type": "code",
   "execution_count": 20,
   "id": "5ec97029-d638-4947-9cdc-8b400810dea0",
   "metadata": {},
   "outputs": [],
   "source": [
    "predicted_labels=updated_trainer.model(test)"
   ]
  },
  {
   "cell_type": "code",
   "execution_count": 21,
   "id": "66df0db0-b764-4f7d-a6f9-7b29fbb1191d",
   "metadata": {},
   "outputs": [],
   "source": [
    "predicted_labels=[int(a) for a in list(predicted_labels)]"
   ]
  },
  {
   "cell_type": "code",
   "execution_count": 22,
   "id": "18e22f01-9631-408c-b259-6b0e683e20f8",
   "metadata": {},
   "outputs": [],
   "source": [
    "reverse_numerize_labels = {v: k for k, v in numerize_labels.items()}\n",
    "predictions=[]\n",
    "for i in range(len(predicted_labels)):\n",
    "    predictions.append((i, reverse_numerize_labels[predicted_labels[i]]))"
   ]
  },
  {
   "cell_type": "code",
   "execution_count": 23,
   "id": "eced278c-797a-450f-a127-44ab34bfdb60",
   "metadata": {},
   "outputs": [],
   "source": [
    "with open('predictions.csv', 'w', newline='') as f:\n",
    "    # Create a CSV writer object\n",
    "    writer = csv.writer(f)\n",
    "\n",
    "    # Write the header row\n",
    "    writer.writerow(['ID', 'Label'])\n",
    "\n",
    "    # Write the data rows\n",
    "    writer.writerows(predictions)"
   ]
  },
  {
   "cell_type": "code",
   "execution_count": 26,
   "id": "24b580d7-beeb-409e-ae91-21b98912d5e5",
   "metadata": {},
   "outputs": [
    {
     "name": "stdout",
     "output_type": "stream",
     "text": [
      "Labels do not match for: The startup accelerator provides funding and mentorship to help early-stage companies grow.\n",
      "File 1 Label: Technology\n",
      "File 2 Label: Finance\n",
      "Labels do not match for: The robotics competition inspires students to pursue careers in STEM fields.\n",
      "File 1 Label: Science\n",
      "File 2 Label: Education\n",
      "Labels do not match for: The computer scientist conducts research to advance the field of artificial intelligence.\n",
      "File 1 Label: Technology\n",
      "File 2 Label: Science\n",
      "Labels do not match for: The sports memorabilia collector owns rare items signed by legendary athletes.\n",
      "File 1 Label: Sports\n",
      "File 2 Label: Fashion\n",
      "Labels do not match for: The best way to find the best local markets is to ask the locals or do your research ahead of time.\n",
      "File 1 Label: Travel\n",
      "File 2 Label: Food\n",
      "Labels do not match for: The sports nutritionist develops customized meal plans for athletes.\n",
      "File 1 Label: Sports\n",
      "File 2 Label: Health\n",
      "Labels do not match for: The art gallery hosted an opening reception for their latest exhibition.\n",
      "File 1 Label: Fashion\n",
      "File 2 Label: Entertainment\n",
      "Labels do not match for: The tech entrepreneur pitched their startup idea to investors at a venture capital firm.\n",
      "File 1 Label: Technology\n",
      "File 2 Label: Finance\n",
      "Labels do not match for: The benefits of eating fish are many, including heart health and brain function.\n",
      "File 1 Label: Health\n",
      "File 2 Label: Food\n",
      "Labels do not match for: The national debt is a major concern for many economists and policymakers.\n",
      "File 1 Label: Finance\n",
      "File 2 Label: Politics\n",
      "Labels do not match for: The best way to find the best local shopping is to ask the locals.\n",
      "File 1 Label: Fashion\n",
      "File 2 Label: Travel\n",
      "Labels do not match for: The sports medicine physician specializes in treating sports-related injuries.\n",
      "File 1 Label: Sports\n",
      "File 2 Label: Health\n",
      "Labels do not match for: The sports equipment store offers a wide range of gear for athletes.\n",
      "File 1 Label: Sports\n",
      "File 2 Label: Fashion\n",
      "Labels do not match for: The importance of citizen science in promoting public engagement and data collection cannot be overstated.\n",
      "File 1 Label: Science\n",
      "File 2 Label: Politics\n",
      "Labels do not match for: The tech accelerator program provides resources and support to help startups succeed.\n",
      "File 1 Label: Technology\n",
      "File 2 Label: Education\n",
      "Labels do not match for: The impact of food deserts on obesity is a topic of concern.\n",
      "File 1 Label: Health\n",
      "File 2 Label: Food\n",
      "Labels do not match for: The benefits of eating fermented foods are many, including gut health and immunity.\n",
      "File 1 Label: Health\n",
      "File 2 Label: Food\n",
      "Labels do not match for: The sports memorabilia shop sells autographed jerseys and collectibles.\n",
      "File 1 Label: Sports\n",
      "File 2 Label: Fashion\n",
      "Labels do not match for: The benefits of personalized medicine are many, including improved treatment outcomes and reduced side effects.\n",
      "File 1 Label: Health\n",
      "File 2 Label: Science\n",
      "Labels do not match for: The Federal Reserve has announced a new interest rate policy.\n",
      "File 1 Label: Finance\n",
      "File 2 Label: Politics\n",
      "Labels do not match for: The benefits of reducing meat consumption are many, including reduced greenhouse gas emissions and improved health.\n",
      "File 1 Label: Environment\n",
      "File 2 Label: Food\n",
      "Labels do not match for: The impact of food production on the environment is a topic of ongoing debate.\n",
      "File 1 Label: Food\n",
      "File 2 Label: Environment\n",
      "Labels do not match for: The benefits of using LED lights are many, including reduced energy consumption and improved lifespan.\n",
      "File 1 Label: Environment\n",
      "File 2 Label: Technology\n",
      "Labels do not match for: The impact of food additives on behavior is a topic of ongoing debate.\n",
      "File 1 Label: Food\n",
      "File 2 Label: Health\n",
      "Labels do not match for: The sports retailer offers discounts on athletic apparel and equipment.\n",
      "File 1 Label: Sports\n",
      "File 2 Label: Fashion\n",
      "Labels do not match for: The computer scientist conducts research to advance the field of artificial intelligence.\n",
      "File 1 Label: Technology\n",
      "File 2 Label: Science\n",
      "Labels do not match for: The benefits of eating breakfast are many, including improved cognitive function and weight management.\n",
      "File 1 Label: Health\n",
      "File 2 Label: Food\n",
      "Labels do not match for: The benefits of using electric cars are many, including reduced greenhouse gas emissions and improved air quality.\n",
      "File 1 Label: Environment\n",
      "File 2 Label: Technology\n",
      "Labels do not match for: The best way to find the best local street art is to do your research ahead of time.\n",
      "File 1 Label: Fashion\n",
      "File 2 Label: Travel\n",
      "Labels do not match for: The impact of the sharing economy on traditional industries is a topic of ongoing debate.\n",
      "File 1 Label: Technology\n",
      "File 2 Label: Finance\n",
      "Labels do not match for: The impact of food waste on the environment is a growing concern.\n",
      "File 1 Label: Food\n",
      "File 2 Label: Environment\n",
      "Labels do not match for: The robotics competition inspires students to pursue careers in STEM fields.\n",
      "File 1 Label: Science\n",
      "File 2 Label: Education\n",
      "Labels do not match for: The startup accelerator provides mentoring and funding to early-stage tech companies.\n",
      "File 1 Label: Technology\n",
      "File 2 Label: Finance\n",
      "Labels do not match for: The coding bootcamp teaches students programming languages and software development skills.\n",
      "File 1 Label: Technology\n",
      "File 2 Label: Education\n"
     ]
    }
   ],
   "source": [
    "def compare_csv_files(file1, file2):\n",
    "    with open(file1, 'r') as csv_file1, open(file2, 'r') as csv_file2:\n",
    "        csv_reader1 = csv.DictReader(csv_file1)\n",
    "        csv_reader2 = csv.DictReader(csv_file2)\n",
    "\n",
    "        for row1, row2 in zip(csv_reader1, csv_reader2):\n",
    "            if row1['ID'] != row2['ID']:\n",
    "                print(\"Ids do not match:\")\n",
    "                print(f\"File 1: {row1['ID']} - {row1['Label']}\")\n",
    "                print(f\"File 2: {row2['ID']} - {row2['Label']}\")\n",
    "            elif row1['Label'] != row2['Label']:\n",
    "                print(\"Labels do not match for:\", test[int(row1['ID'])])\n",
    "                print(f\"File 1 Label: {row1['Label']}\")\n",
    "                print(f\"File 2 Label: {row2['Label']}\")\n",
    "\n",
    "# Example usage:\n",
    "file1_path = 'pred30.csv'\n",
    "file2_path = 'pred40.csv'\n",
    "\n",
    "compare_csv_files(file1_path, file2_path)\n"
   ]
  },
  {
   "cell_type": "code",
   "execution_count": null,
   "id": "6b039b7f-0778-49f0-b1c0-4669dffc6913",
   "metadata": {},
   "outputs": [],
   "source": []
  }
 ],
 "metadata": {
  "kernelspec": {
   "display_name": "Python 3 (ipykernel)",
   "language": "python",
   "name": "python3"
  },
  "language_info": {
   "codemirror_mode": {
    "name": "ipython",
    "version": 3
   },
   "file_extension": ".py",
   "mimetype": "text/x-python",
   "name": "python",
   "nbconvert_exporter": "python",
   "pygments_lexer": "ipython3",
   "version": "3.8.10"
  }
 },
 "nbformat": 4,
 "nbformat_minor": 5
}
