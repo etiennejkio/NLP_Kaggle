{
 "cells": [
  {
   "cell_type": "code",
   "execution_count": 15,
   "id": "e83aa698-d5b3-4d87-9c10-f7b8ca19cbac",
   "metadata": {},
   "outputs": [],
   "source": [
    "from datasets import load_dataset, Dataset, concatenate_datasets\n",
    "from sentence_transformers.losses import CosineSimilarityLoss\n",
    "from setfit import SetFitModel, SetFitTrainer, sample_dataset\n",
    "import json\n",
    "import csv\n",
    "import nlpaug.augmenter.word.back_translation as nat\n",
    "import nlpaug.augmenter.word.synonym as nas\n",
    "import numpy as np"
   ]
  },
  {
   "cell_type": "code",
   "execution_count": 2,
   "id": "10aee11d-bb4b-464b-8d9b-c3f8b5dbbc11",
   "metadata": {},
   "outputs": [],
   "source": [
    "# Map labels to numbers\n",
    "numerize_labels = {'Politics':0, 'Health':1, 'Finance':2, 'Travel':3, 'Food':4, 'Education':5,\n",
    "       'Environment':6, 'Fashion':7, 'Science':8, 'Sports':9, 'Technology':10, 'Entertainment':11}\n",
    "\n",
    "# Load your JSON file\n",
    "with open('./data/train.json', 'r') as f:\n",
    "    data = json.load(f)\n",
    "\n",
    "# Convert the data into the required format\n",
    "formatted_data = []\n",
    "idx=0\n",
    "for label, sentences in data.items():\n",
    "    for  sentence in sentences:\n",
    "        formatted_data.append({'label': numerize_labels[label], 'sentence': sentence, 'idx': idx})\n",
    "        idx+=1\n",
    "\n",
    "# Create a HuggingFace Dataset\n",
    "dataset = Dataset.from_list(formatted_data)"
   ]
  },
  {
   "cell_type": "code",
   "execution_count": 3,
   "id": "4192695e-60eb-4366-ab55-99ae21505aa7",
   "metadata": {},
   "outputs": [
    {
     "data": {
      "text/plain": [
       "Dataset({\n",
       "    features: ['label', 'sentence', 'idx'],\n",
       "    num_rows: 36\n",
       "})"
      ]
     },
     "execution_count": 3,
     "metadata": {},
     "output_type": "execute_result"
    }
   ],
   "source": [
    "dataset"
   ]
  },
  {
   "cell_type": "code",
   "execution_count": 4,
   "id": "f99fe411-1a0b-42bb-946c-5134051b293c",
   "metadata": {},
   "outputs": [
    {
     "data": {
      "application/vnd.jupyter.widget-view+json": {
       "model_id": "afd81f294b994f879404becb018cce06",
       "version_major": 2,
       "version_minor": 0
      },
      "text/plain": [
       "config.json:   0%|          | 0.00/594 [00:00<?, ?B/s]"
      ]
     },
     "metadata": {},
     "output_type": "display_data"
    },
    {
     "data": {
      "application/vnd.jupyter.widget-view+json": {
       "model_id": "7e07b6b31b30410ab109500fe3468f54",
       "version_major": 2,
       "version_minor": 0
      },
      "text/plain": [
       "modules.json:   0%|          | 0.00/229 [00:00<?, ?B/s]"
      ]
     },
     "metadata": {},
     "output_type": "display_data"
    },
    {
     "data": {
      "application/vnd.jupyter.widget-view+json": {
       "model_id": "3a1fee9c5d224735a5dbcf82a9daec2a",
       "version_major": 2,
       "version_minor": 0
      },
      "text/plain": [
       "config_sentence_transformers.json:   0%|          | 0.00/122 [00:00<?, ?B/s]"
      ]
     },
     "metadata": {},
     "output_type": "display_data"
    },
    {
     "data": {
      "application/vnd.jupyter.widget-view+json": {
       "model_id": "8c61c046b5144ecaa85f0a75c982ff2f",
       "version_major": 2,
       "version_minor": 0
      },
      "text/plain": [
       "README.md:   0%|          | 0.00/3.73k [00:00<?, ?B/s]"
      ]
     },
     "metadata": {},
     "output_type": "display_data"
    },
    {
     "data": {
      "application/vnd.jupyter.widget-view+json": {
       "model_id": "f11558ffb81c4549955ff89ae874f4c9",
       "version_major": 2,
       "version_minor": 0
      },
      "text/plain": [
       "sentence_bert_config.json:   0%|          | 0.00/53.0 [00:00<?, ?B/s]"
      ]
     },
     "metadata": {},
     "output_type": "display_data"
    },
    {
     "data": {
      "application/vnd.jupyter.widget-view+json": {
       "model_id": "8b6ab9c965ee46c893d84e6a643bd0ca",
       "version_major": 2,
       "version_minor": 0
      },
      "text/plain": [
       "model.safetensors:   0%|          | 0.00/438M [00:00<?, ?B/s]"
      ]
     },
     "metadata": {},
     "output_type": "display_data"
    },
    {
     "data": {
      "application/vnd.jupyter.widget-view+json": {
       "model_id": "ae7775568a37415d848db2b5968ecbf4",
       "version_major": 2,
       "version_minor": 0
      },
      "text/plain": [
       "tokenizer_config.json:   0%|          | 0.00/1.19k [00:00<?, ?B/s]"
      ]
     },
     "metadata": {},
     "output_type": "display_data"
    },
    {
     "data": {
      "application/vnd.jupyter.widget-view+json": {
       "model_id": "4d09213ae9444010ac75e67edf49b64c",
       "version_major": 2,
       "version_minor": 0
      },
      "text/plain": [
       "vocab.txt:   0%|          | 0.00/232k [00:00<?, ?B/s]"
      ]
     },
     "metadata": {},
     "output_type": "display_data"
    },
    {
     "data": {
      "application/vnd.jupyter.widget-view+json": {
       "model_id": "0cec1718294149e4b858fbc7b6032c37",
       "version_major": 2,
       "version_minor": 0
      },
      "text/plain": [
       "tokenizer.json:   0%|          | 0.00/466k [00:00<?, ?B/s]"
      ]
     },
     "metadata": {},
     "output_type": "display_data"
    },
    {
     "data": {
      "application/vnd.jupyter.widget-view+json": {
       "model_id": "1c6b6c8f462a45b2a9455545cc58611d",
       "version_major": 2,
       "version_minor": 0
      },
      "text/plain": [
       "special_tokens_map.json:   0%|          | 0.00/239 [00:00<?, ?B/s]"
      ]
     },
     "metadata": {},
     "output_type": "display_data"
    },
    {
     "data": {
      "application/vnd.jupyter.widget-view+json": {
       "model_id": "4c0c64a98a0d480d93e0a49fbe0dc3d8",
       "version_major": 2,
       "version_minor": 0
      },
      "text/plain": [
       "1_Pooling/config.json:   0%|          | 0.00/190 [00:00<?, ?B/s]"
      ]
     },
     "metadata": {},
     "output_type": "display_data"
    },
    {
     "name": "stderr",
     "output_type": "stream",
     "text": [
      "model_head.pkl not found on HuggingFace Hub, initialising classification head with random weights. You should TRAIN this model on a downstream task to use it for predictions and inference.\n"
     ]
    }
   ],
   "source": [
    "model = SetFitModel.from_pretrained('sentence-transformers/paraphrase-mpnet-base-v2')"
   ]
  },
  {
   "cell_type": "code",
   "execution_count": 5,
   "id": "e186153f-e012-46d1-86aa-64efc35e482c",
   "metadata": {},
   "outputs": [
    {
     "name": "stderr",
     "output_type": "stream",
     "text": [
      "/tmp/ipykernel_3863/3450520037.py:1: DeprecationWarning: `SetFitTrainer` has been deprecated and will be removed in v2.0.0 of SetFit. Please use `Trainer` instead.\n",
      "  trainer = SetFitTrainer(\n",
      "Applying column mapping to the training dataset\n",
      "Applying column mapping to the evaluation dataset\n"
     ]
    },
    {
     "data": {
      "application/vnd.jupyter.widget-view+json": {
       "model_id": "97fd124050794d0d825ebcbb7ab67114",
       "version_major": 2,
       "version_minor": 0
      },
      "text/plain": [
       "Map:   0%|          | 0/36 [00:00<?, ? examples/s]"
      ]
     },
     "metadata": {},
     "output_type": "display_data"
    }
   ],
   "source": [
    "trainer = SetFitTrainer(\n",
    "model=model,\n",
    "train_dataset=dataset,\n",
    "eval_dataset=dataset,\n",
    "loss_class=CosineSimilarityLoss,\n",
    "metric=\"accuracy\",\n",
    "batch_size=16,\n",
    "num_iterations=20,\n",
    "num_epochs=1,\n",
    "column_mapping={\"sentence\": \"text\", \"label\": \"label\"})"
   ]
  },
  {
   "cell_type": "code",
   "execution_count": 6,
   "id": "0c84daf6-21df-4001-aeaf-a2a273feee47",
   "metadata": {},
   "outputs": [
    {
     "name": "stderr",
     "output_type": "stream",
     "text": [
      "***** Running training *****\n",
      "  Num unique pairs = 1440\n",
      "  Batch size = 16\n",
      "  Num epochs = 1\n",
      "  Total optimization steps = 90\n"
     ]
    },
    {
     "data": {
      "text/html": [
       "\n",
       "    <div>\n",
       "      \n",
       "      <progress value='90' max='90' style='width:300px; height:20px; vertical-align: middle;'></progress>\n",
       "      [90/90 00:10, Epoch 1/0]\n",
       "    </div>\n",
       "    <table border=\"1\" class=\"dataframe\">\n",
       "  <thead>\n",
       " <tr style=\"text-align: left;\">\n",
       "      <th>Step</th>\n",
       "      <th>Training Loss</th>\n",
       "    </tr>\n",
       "  </thead>\n",
       "  <tbody>\n",
       "  </tbody>\n",
       "</table><p>"
      ],
      "text/plain": [
       "<IPython.core.display.HTML object>"
      ]
     },
     "metadata": {},
     "output_type": "display_data"
    }
   ],
   "source": [
    "trainer.train()"
   ]
  },
  {
   "cell_type": "code",
   "execution_count": 7,
   "id": "e46e71cb-68bd-491b-9550-0a22d7bddbfd",
   "metadata": {},
   "outputs": [
    {
     "name": "stderr",
     "output_type": "stream",
     "text": [
      "***** Running evaluation *****\n"
     ]
    },
    {
     "data": {
      "application/vnd.jupyter.widget-view+json": {
       "model_id": "f532d304483a4b1c9de0fe6dc5efb8c4",
       "version_major": 2,
       "version_minor": 0
      },
      "text/plain": [
       "Downloading builder script:   0%|          | 0.00/4.20k [00:00<?, ?B/s]"
      ]
     },
     "metadata": {},
     "output_type": "display_data"
    },
    {
     "name": "stdout",
     "output_type": "stream",
     "text": [
      "{'accuracy': 1.0}\n"
     ]
    }
   ],
   "source": [
    "metrics = trainer.evaluate()\n",
    "print(metrics)"
   ]
  },
  {
   "cell_type": "code",
   "execution_count": 8,
   "id": "aa7baac0-db26-4265-9bdf-da7a97ae4816",
   "metadata": {},
   "outputs": [],
   "source": [
    "with open('./data/test_shuffle.txt', 'r') as f:\n",
    "    test = f.readlines()\n",
    "\n",
    "# Remove newline characters\n",
    "test = [line.strip() for line in test]"
   ]
  },
  {
   "cell_type": "code",
   "execution_count": 9,
   "id": "a93bfe8b-6f2f-4ef5-be4c-c9d433fe0bc8",
   "metadata": {},
   "outputs": [
    {
     "name": "stdout",
     "output_type": "stream",
     "text": [
      "141\n"
     ]
    }
   ],
   "source": [
    "good_preds=[]\n",
    "for sentence in test:\n",
    "    preds=model.predict_proba(sentence)\n",
    "    if preds[np.argmax(preds)]>0.8:\n",
    "        good_preds.append((sentence, model(sentence)))\n",
    "print(len(good_preds))        "
   ]
  },
  {
   "cell_type": "code",
   "execution_count": 16,
   "id": "99ddf8a9-8863-4e39-bc9f-009569ff6891",
   "metadata": {},
   "outputs": [
    {
     "name": "stdout",
     "output_type": "stream",
     "text": [
      "Dataset({\n",
      "    features: ['label', 'sentence', 'idx'],\n",
      "    num_rows: 177\n",
      "})\n"
     ]
    }
   ],
   "source": [
    "starting_idx = len(dataset)\n",
    "\n",
    "# Create a new dataset with the additional entries\n",
    "new_data = []\n",
    "for idx, (sentence, label) in enumerate(good_preds):\n",
    "    new_data.append({\n",
    "        'label': label,\n",
    "        'sentence': sentence,\n",
    "        'idx': starting_idx + idx\n",
    "    })\n",
    "\n",
    "additional_dataset = Dataset.from_dict({key: [item[key] for item in new_data] for key in new_data[0]})\n",
    "\n",
    "# Concatenate the original dataset with the additional dataset\n",
    "updated_dataset = concatenate_datasets([dataset, additional_dataset])\n",
    "\n",
    "print(updated_dataset)"
   ]
  },
  {
   "cell_type": "code",
   "execution_count": 17,
   "id": "9a55f1e3-de5e-425a-8b6d-43245c4ccf4f",
   "metadata": {},
   "outputs": [
    {
     "name": "stderr",
     "output_type": "stream",
     "text": [
      "/tmp/ipykernel_3863/2675843827.py:1: DeprecationWarning: `SetFitTrainer` has been deprecated and will be removed in v2.0.0 of SetFit. Please use `Trainer` instead.\n",
      "  updated_trainer = SetFitTrainer(\n",
      "Applying column mapping to the training dataset\n",
      "Applying column mapping to the evaluation dataset\n"
     ]
    },
    {
     "data": {
      "application/vnd.jupyter.widget-view+json": {
       "model_id": "6100bc3fc2394de98c4eedf1ba077ac8",
       "version_major": 2,
       "version_minor": 0
      },
      "text/plain": [
       "Map:   0%|          | 0/177 [00:00<?, ? examples/s]"
      ]
     },
     "metadata": {},
     "output_type": "display_data"
    }
   ],
   "source": [
    "updated_trainer = SetFitTrainer(\n",
    "model=model,\n",
    "train_dataset=updated_dataset,\n",
    "eval_dataset=updated_dataset,\n",
    "loss_class=CosineSimilarityLoss,\n",
    "metric=\"accuracy\",\n",
    "batch_size=16,\n",
    "num_iterations=20,\n",
    "num_epochs=1,\n",
    "column_mapping={\"sentence\": \"text\", \"label\": \"label\"})"
   ]
  },
  {
   "cell_type": "code",
   "execution_count": 18,
   "id": "2fe1a062-8e8e-4293-a545-cf0c3a7d8820",
   "metadata": {},
   "outputs": [
    {
     "name": "stderr",
     "output_type": "stream",
     "text": [
      "***** Running training *****\n",
      "  Num unique pairs = 7080\n",
      "  Batch size = 16\n",
      "  Num epochs = 1\n",
      "  Total optimization steps = 443\n"
     ]
    },
    {
     "data": {
      "text/html": [
       "\n",
       "    <div>\n",
       "      \n",
       "      <progress value='443' max='443' style='width:300px; height:20px; vertical-align: middle;'></progress>\n",
       "      [443/443 00:49, Epoch 1/0]\n",
       "    </div>\n",
       "    <table border=\"1\" class=\"dataframe\">\n",
       "  <thead>\n",
       " <tr style=\"text-align: left;\">\n",
       "      <th>Step</th>\n",
       "      <th>Training Loss</th>\n",
       "    </tr>\n",
       "  </thead>\n",
       "  <tbody>\n",
       "  </tbody>\n",
       "</table><p>"
      ],
      "text/plain": [
       "<IPython.core.display.HTML object>"
      ]
     },
     "metadata": {},
     "output_type": "display_data"
    }
   ],
   "source": [
    "updated_trainer.train()"
   ]
  },
  {
   "cell_type": "code",
   "execution_count": 19,
   "id": "dc37bcbd-5e6f-481b-9968-a9c3f9485301",
   "metadata": {},
   "outputs": [],
   "source": [
    "predicted_labels=updated_trainer.model(test)"
   ]
  },
  {
   "cell_type": "code",
   "execution_count": 20,
   "id": "77bc59cc-01b3-467f-9b58-fc467782c13e",
   "metadata": {},
   "outputs": [],
   "source": [
    "predicted_labels=[int(a) for a in list(predicted_labels)]"
   ]
  },
  {
   "cell_type": "code",
   "execution_count": 21,
   "id": "b65fc715-61d1-40f7-a909-cfca2fe81e4b",
   "metadata": {},
   "outputs": [],
   "source": [
    "reverse_numerize_labels = {v: k for k, v in numerize_labels.items()}\n",
    "predictions=[]\n",
    "for i in range(len(predicted_labels)):\n",
    "    predictions.append((i, reverse_numerize_labels[predicted_labels[i]]))"
   ]
  },
  {
   "cell_type": "code",
   "execution_count": 22,
   "id": "c149d91e-900c-4a05-98f8-92405b9f97eb",
   "metadata": {},
   "outputs": [],
   "source": [
    "with open('predictions.csv', 'w', newline='') as f:\n",
    "    # Create a CSV writer object\n",
    "    writer = csv.writer(f)\n",
    "\n",
    "    # Write the header row\n",
    "    writer.writerow(['ID', 'Label'])\n",
    "\n",
    "    # Write the data rows\n",
    "    writer.writerows(predictions)"
   ]
  },
  {
   "cell_type": "code",
   "execution_count": 25,
   "id": "69410f0d-e24c-4f8c-9c4c-8c65f8cd4727",
   "metadata": {},
   "outputs": [
    {
     "name": "stdout",
     "output_type": "stream",
     "text": [
      "The impact of overpopulation on the environment is a topic of ongoing research. Environment\n",
      "The benefits of using digital fashion in fashion are many, including reduced waste and improved creativity. Fashion\n",
      "The political climate is becoming increasingly tense. Politics\n",
      "The importance of size inclusivity in fashion cannot be overstated. Fashion\n",
      "The opposition party is calling for a referendum on the issue. Politics\n",
      "The impact of fashion on cultural diversity is a topic of ongoing research. Fashion\n",
      "The American Diabetes Association recommends regular exercise and a healthy diet to manage blood sugar levels. Health\n",
      "The impact of market volatility on investing is a topic of concern. Finance\n",
      "The importance of vegan fashion in promoting animal welfare cannot be overemphasized. Fashion\n",
      "The benefits of regular exercise for bone health are well documented. Health\n",
      "The impact of fashion on cultural identity is a topic of ongoing research. Fashion\n",
      "The impact of acid rain on ecosystems is a topic of ongoing scientific research. Environment\n",
      "The importance of protecting old-growth forests in maintaining ecosystem health cannot be overemphasized. Environment\n",
      "The impact of class size on student outcomes is a topic of ongoing research. Education\n",
      "The benefits of investing in small-cap stocks for growth are well established. Finance\n",
      "The impact of fashion on cultural exchange is a topic of ongoing concern. Fashion\n",
      "The impact of pesticide drift on the environment is a topic of ongoing concern. Environment\n",
      "The importance of sustainable fashion standards in promoting sustainability cannot be overemphasized. Fashion\n",
      "The impact of eutrophication on the environment is a topic of ongoing concern. Environment\n",
      "The importance of fair trade in fashion cannot be overemphasized. Fashion\n",
      "The importance of body positivity in fashion cannot be overstated. Fashion\n",
      "The impact of soil degradation on the environment is a topic of ongoing concern. Environment\n",
      "The impact of fashion on cultural diversity is a topic of ongoing concern. Fashion\n",
      "The benefits of using rain gardens are many, including reduced stormwater runoff and improved water quality. Environment\n",
      "The importance of sustainable fashion activism in promoting sustainability cannot be overemphasized. Fashion\n",
      "The impact of fashion on cultural diversity is a topic of ongoing concern. Fashion\n",
      "The impact of soil erosion on the environment is a topic of ongoing research. Environment\n",
      "The importance of diversity and inclusivity in fashion cannot be overemphasized. Fashion\n",
      "The benefits of investing in hedge funds for high-growth potential are well established. Finance\n",
      "The benefits of meditation for stress reduction are well documented. Health\n",
      "The impact of urbanization on biodiversity is a topic of ongoing scientific research. Environment\n",
      "The mayor has been criticized for his handling of the budget. Politics\n",
      "The tennis player served an ace to win the match. Sports\n",
      "The importance of sustainable fashion design in promoting sustainability cannot be overemphasized. Fashion\n",
      "The benefits of a healthy lifestyle for reducing the risk of chronic diseases are well established. Health\n",
      "The benefits of investing in dividend-paying stocks for income are well established. Finance\n",
      "The opposition party is calling for a general election. Politics\n",
      "The importance of ethical sourcing in fashion cannot be overemphasized. Fashion\n",
      "The tennis tournament attracted top-ranked players from around the world. Sports\n",
      "The importance of sustainable fashion education in fashion cannot be overemphasized. Fashion\n",
      "The mayor announced a new initiative to improve public transportation. Politics\n",
      "The impact of fashion on climate change is a topic of ongoing research. Fashion\n",
      "The soccer tournament featured teams from different countries competing for the title. Sports\n",
      "The impact of desertification on ecosystems is a topic of ongoing scientific research. Environment\n",
      "The link between sedentary behavior and chronic diseases such as obesity and diabetes is well established. Health\n",
      "The impact of deforestation on the environment is a topic of ongoing scientific research. Environment\n",
      "A new study reveals the benefits of meditation for mental health. Health\n",
      "The quantum physicist conducted experiments to study the behavior of subatomic particles. Science\n",
      "The link between physical inactivity and chronic diseases such as obesity and diabetes is well established. Health\n",
      "The impact of fashion on gender norms is a topic of ongoing research. Fashion\n",
      "The benefits of investing in value stocks for long-term returns are well documented. Finance\n",
      "The opposition party has put forward a new candidate for the upcoming election. Politics\n",
      "The impact of fashion on cultural identity is a topic of ongoing research. Fashion\n",
      "The impact of fashion on animal welfare is a topic of ongoing concern. Fashion\n",
      "The impact of deforestation on climate change is a topic of ongoing scientific research. Environment\n",
      "The benefits of investing in master limited partnerships (MLPs) for income are well established. Finance\n",
      "The importance of sustainable fashion policies in promoting sustainability cannot be overstated. Fashion\n",
      "The importance of sustainable fashion leadership in promoting sustainability cannot be overstated. Fashion\n",
      "The stock market saw a significant drop following the announcement of the new tariffs. Finance\n",
      "Traveling can be a great way to experience new cultures and broaden your horizons. Travel\n",
      "The American Cancer Society recommends regular physical activity to reduce the risk of cancer. Health\n",
      "The impact of fashion on cultural exchange is a topic of ongoing concern. Fashion\n",
      "The benefits of investing in real estate are well established. Finance\n",
      "The benefits of regular exercise for mental health are well established. Health\n",
      "The importance of artisanal craftsmanship in fashion cannot be overemphasized. Fashion\n",
      "The impact of technology on education is a topic of ongoing debate. Education\n",
      "The impact of habitat fragmentation on the environment is a topic of ongoing concern. Environment\n",
      "The impact of deforestation on the environment is a topic of ongoing research. Environment\n",
      "The impact of fashion on cultural identity is a topic of ongoing concern. Fashion\n",
      "The importance of sustainable fashion collaborations in promoting sustainability cannot be overemphasized. Fashion\n",
      "The sportsmanship displayed by the players was commendable. Sports\n",
      "The benefits of composting are many, including reduced landfill waste and improved soil quality. Environment\n",
      "The benefits of a healthy diet for weight management are well established. Health\n",
      "The impact of fashion on cultural identity is a topic of ongoing research. Fashion\n",
      "The opposition party is calling for a constitutional amendment. Politics\n",
      "The upcoming election has sparked intense debates among the candidates. Politics\n",
      "The benefits of using native plants are many, including improved habitat and reduced water consumption. Environment\n",
      "The importance of sustainable fashion education in promoting sustainability cannot be overstated. Fashion\n",
      "The impact of water pollution on aquatic ecosystems is a topic of ongoing scientific research. Environment\n",
      "The importance of sustainable fashion events in promoting sustainability cannot be overemphasized. Fashion\n",
      "The political climate is becoming increasingly divisive. Politics\n",
      "The impact of climate change on water resources is a topic of ongoing research. Environment\n",
      "The fashion designer unveiled their latest collection at New York Fashion Week. Fashion\n",
      "The importance of ethical fashion in promoting social responsibility cannot be overemphasized. Fashion\n",
      "The importance of sustainable fashion initiatives in promoting sustainability cannot be overstated. Fashion\n",
      "The benefits of tree planting are many, including improved air quality and reduced soil erosion. Environment\n",
      "The importance of sustainable fashion innovation in promoting sustainability cannot be overemphasized. Fashion\n",
      "The impact of the aging population on adventure travel is a topic of concern. Travel\n",
      "Regular exercise and a balanced diet are key to maintaining good health. Health\n",
      "The impact of fashion on cultural identity is a topic of ongoing research. Fashion\n",
      "The impact of acid rain on the environment is a topic of ongoing concern. Environment\n",
      "The importance of sustainable fashion advocacy in fashion cannot be overemphasized. Fashion\n",
      "The importance of sustainable fashion regulations in promoting sustainability cannot be overstated. Fashion\n",
      "The benefits of a healthy lifestyle for longevity are well documented. Health\n",
      "The basketball tournament attracted teams from all over the state. Sports\n",
      "The importance of lifelong learning cannot be overstated. Education\n",
      "The benefits of sustainable fashion are many, including reduced environmental impact and improved labor practices. Fashion\n",
      "The impact of habitat fragmentation on biodiversity is a topic of ongoing scientific research. Environment\n",
      "The impact of fashion on cultural heritage is a topic of ongoing research. Fashion\n",
      "The political climate is becoming increasingly polarized. Politics\n",
      "The benefits of regular exercise for cardiovascular health are well documented. Health\n",
      "The link between obesity and chronic diseases such as diabetes and heart disease is well established. Health\n",
      "The World Health Organization has issued new guidelines on COVID-19. Health\n",
      "The importance of fashion education in promoting sustainability cannot be overstated. Fashion\n",
      "The tourism industry has been severely impacted by the COVID-19 pandemic. Travel\n",
      "The importance of sustainable fashion certifications in fashion cannot be overstated. Fashion\n",
      "The impact of fashion on cultural exchange is a topic of ongoing research. Fashion\n",
      "Fashion is a form of self-expression and creativity. Fashion\n",
      "The benefits of a healthy weight for overall health are well established. Health\n",
      "The benefits of regular exercise for reducing the risk of diabetes are well documented. Health\n",
      "The American Heart Association recommends regular physical activity to reduce the risk of heart disease. Health\n",
      "The impact of fashion on cultural homogenization is a topic of ongoing concern. Fashion\n",
      "The benefits of regular exercise for immune function are well documented. Health\n",
      "The importance of cooking at home cannot be overstated. Food\n",
      "The impact of fashion on mental health is a topic of ongoing concern. Fashion\n",
      "The impact of cultural appropriation in fashion is a topic of ongoing debate. Fashion\n",
      "The benefits of investing in real estate investment trusts (REITs) for income are well established. Finance\n",
      "The two parties are at odds over the proposed budget. Politics\n",
      "The impact of desertification on the environment is a topic of ongoing concern. Environment\n",
      "The benefits of investing in emerging markets are well established. Finance\n",
      "The benefits of investing in private equity for high-growth potential are well established. Finance\n",
      "The senator is facing criticism for her stance on the recent bill. Politics\n",
      "The impact of fashion trends on consumer behavior is a topic of ongoing research. Fashion\n",
      "The impact of fashion on social justice is a topic of ongoing research. Fashion\n",
      "The importance of ethical labor practices in fashion cannot be overstated. Fashion\n",
      "The opposition party is calling for a national referendum. Politics\n",
      "The governor has announced a plan to address the gun violence crisis. Politics\n",
      "The benefits of regular exercise for mental health are well documented. Health\n",
      "The importance of sustainable fashion marketing in promoting sustainability cannot be overstated. Fashion\n",
      "The importance of sustainable forestry in promoting biodiversity cannot be overemphasized. Environment\n",
      "The importance of sustainable textile innovation in fashion cannot be overemphasized. Fashion\n",
      "The benefits of hydroponics are many, including improved water efficiency and reduced need for pesticides. Environment\n",
      "The impact of fashion on cultural heritage is a topic of ongoing concern. Fashion\n",
      "The benefits of regular exercise for cognitive function are well documented. Health\n",
      "The benefits of a flipped classroom education are many, including improved engagement and retention skills. Education\n",
      "The impact of fast fashion on the environment is a topic of ongoing concern. Fashion\n",
      "The benefits of a healthy lifestyle for reducing the risk of chronic diseases are well documented. Health\n",
      "The impact of climate change on biodiversity is a topic of ongoing concern. Environment\n",
      "The importance of circular fashion in promoting sustainability cannot be overstated. Fashion\n",
      "The benefits of investing in initial public offerings (IPOs) for high-growth potential are well established. Finance\n",
      "The benefits of a healthy lifestyle for reducing the risk of heart disease are well established. Health\n"
     ]
    }
   ],
   "source": [
    "for sentence, label in good_preds:\n",
    "    print(sentence, reverse_numerize_labels[int(label)])"
   ]
  },
  {
   "cell_type": "code",
   "execution_count": 26,
   "id": "f4c50718-d6e7-4789-b09c-4af6aa33ee58",
   "metadata": {},
   "outputs": [
    {
     "name": "stdout",
     "output_type": "stream",
     "text": [
      "{tensor(6): 1, tensor(7): 1, tensor(0): 1, tensor(7): 1, tensor(0): 1, tensor(7): 1, tensor(1): 1, tensor(2): 1, tensor(7): 1, tensor(1): 1, tensor(7): 1, tensor(6): 1, tensor(6): 1, tensor(5): 1, tensor(2): 1, tensor(7): 1, tensor(6): 1, tensor(7): 1, tensor(6): 1, tensor(7): 1, tensor(7): 1, tensor(6): 1, tensor(7): 1, tensor(6): 1, tensor(7): 1, tensor(7): 1, tensor(6): 1, tensor(7): 1, tensor(2): 1, tensor(1): 1, tensor(6): 1, tensor(0): 1, tensor(9): 1, tensor(7): 1, tensor(1): 1, tensor(2): 1, tensor(0): 1, tensor(7): 1, tensor(9): 1, tensor(7): 1, tensor(0): 1, tensor(7): 1, tensor(9): 1, tensor(6): 1, tensor(1): 1, tensor(6): 1, tensor(1): 1, tensor(8): 1, tensor(1): 1, tensor(7): 1, tensor(2): 1, tensor(0): 1, tensor(7): 1, tensor(7): 1, tensor(6): 1, tensor(2): 1, tensor(7): 1, tensor(7): 1, tensor(2): 1, tensor(3): 1, tensor(1): 1, tensor(7): 1, tensor(2): 1, tensor(1): 1, tensor(7): 1, tensor(5): 1, tensor(6): 1, tensor(6): 1, tensor(7): 1, tensor(7): 1, tensor(9): 1, tensor(6): 1, tensor(1): 1, tensor(7): 1, tensor(0): 1, tensor(0): 1, tensor(6): 1, tensor(7): 1, tensor(6): 1, tensor(7): 1, tensor(0): 1, tensor(6): 1, tensor(7): 1, tensor(7): 1, tensor(7): 1, tensor(6): 1, tensor(7): 1, tensor(3): 1, tensor(1): 1, tensor(7): 1, tensor(6): 1, tensor(7): 1, tensor(7): 1, tensor(1): 1, tensor(9): 1, tensor(5): 1, tensor(7): 1, tensor(6): 1, tensor(7): 1, tensor(0): 1, tensor(1): 1, tensor(1): 1, tensor(1): 1, tensor(7): 1, tensor(3): 1, tensor(7): 1, tensor(7): 1, tensor(7): 1, tensor(1): 1, tensor(1): 1, tensor(1): 1, tensor(7): 1, tensor(1): 1, tensor(4): 1, tensor(7): 1, tensor(7): 1, tensor(2): 1, tensor(0): 1, tensor(6): 1, tensor(2): 1, tensor(2): 1, tensor(0): 1, tensor(7): 1, tensor(7): 1, tensor(7): 1, tensor(0): 1, tensor(0): 1, tensor(1): 1, tensor(7): 1, tensor(6): 1, tensor(7): 1, tensor(6): 1, tensor(7): 1, tensor(1): 1, tensor(5): 1, tensor(7): 1, tensor(1): 1, tensor(6): 1, tensor(7): 1, tensor(2): 1, tensor(1): 1}\n"
     ]
    }
   ],
   "source": [
    "def count_sentences_per_label(good_preds):\n",
    "    # Initialize a dictionary to store the counts per label\n",
    "    label_counts = {}\n",
    "\n",
    "    # Iterate through the (sentence, label) pairs\n",
    "    for sentence, label in good_preds:\n",
    "        # Check if the label exists in the dictionary\n",
    "        if int(label) in label_counts:\n",
    "            # Increment the count for the label\n",
    "            label_counts[int(label)] += 1\n",
    "        else:\n",
    "            # Initialize the count for the label\n",
    "            label_counts[int(label)] = 1\n",
    "\n",
    "    return label_counts\n",
    "\n",
    "# Example usage:\n",
    "label_counts = count_sentences_per_label(good_preds)\n",
    "print(label_counts)"
   ]
  },
  {
   "cell_type": "code",
   "execution_count": null,
   "id": "d58464d5-25cc-49cf-ba0d-ccd02a55c1f0",
   "metadata": {},
   "outputs": [],
   "source": []
  }
 ],
 "metadata": {
  "kernelspec": {
   "display_name": "Python 3 (ipykernel)",
   "language": "python",
   "name": "python3"
  },
  "language_info": {
   "codemirror_mode": {
    "name": "ipython",
    "version": 3
   },
   "file_extension": ".py",
   "mimetype": "text/x-python",
   "name": "python",
   "nbconvert_exporter": "python",
   "pygments_lexer": "ipython3",
   "version": "3.8.10"
  }
 },
 "nbformat": 4,
 "nbformat_minor": 5
}
